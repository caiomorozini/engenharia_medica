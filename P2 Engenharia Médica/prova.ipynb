{
 "cells": [
  {
   "cell_type": "code",
   "execution_count": 294,
   "metadata": {},
   "outputs": [],
   "source": [
    "from scipy.io import loadmat\n",
    "import numpy as np\n",
    "import pandas as pd\n",
    "import matplotlib.pyplot as plt\n",
    "import seaborn as sns\n",
    "import scipy\n",
    "import numpy as np\n",
    "import scipy.fft as fft"
   ]
  },
  {
   "cell_type": "markdown",
   "metadata": {},
   "source": [
    "# Funções"
   ]
  },
  {
   "cell_type": "code",
   "execution_count": 295,
   "metadata": {},
   "outputs": [],
   "source": [
    "def extraicarac(sin,freq,bandas):\n",
    "  #Extrai características estatísticas e espectrais de um conjunto de sinais de mesma dimensão temporal.\n",
    "  #Inputs:\n",
    "  #   - sin = numpy array (num de sinais x tempo)\n",
    "  #   - freq = frequencia de amostragem dos sinais (Hz)\n",
    "  #   - bandas = dicionario com a informação das bandas de frequencia a serem extraídas. \n",
    "  #              Formato:{'nome da banda (string)':[freqinicial, freqfinal]}\n",
    "  #              Exemplo: \n",
    "  #              bandas={'delta 1':[0.5,2.5],'delta 2':[2.5,4],'teta 1':[4,6],'teta 2':[6,8], 'alfa':[8,12],'beta':[12,20],'gama':[10,45]}\n",
    "  #Output: \n",
    "  #   - retorna um array de trechos x características e uma lista com os nomes das \n",
    "  # caracteristicas correspondentes ao array\n",
    "    \n",
    "  (S,X)=np.shape(sin) #S = numero de sinais sinais; X = tamanho dos sinais no tempo\n",
    "  nc=15 #numero de caracteristicas que serao extraidas\n",
    "  car=np.zeros((S,nc)) #matriz das caracteristicas\n",
    "  nomesc=[None]*nc\n",
    "  \n",
    "  for s in range(S):\n",
    "\n",
    "    #média\n",
    "     car[s,0]=np.mean(sin[s,:])\n",
    "     nomesc[0]='media'\n",
    "\n",
    "    #variancia\n",
    "     var0=np.var(sin[s,:],ddof=1)\n",
    "     car[s,1]=var0\n",
    "     nomesc[1]='variancia'\n",
    "\n",
    "    #mobilidade\n",
    "     x1=np.diff(sin[s,:])\n",
    "     var1=np.var(x1,ddof=1)\n",
    "     mob=var1/var0\n",
    "     car[s,2]=mob\n",
    "     nomesc[2]='mobilidade'\n",
    "          \n",
    "    #complexidade estatística\n",
    "     x2=np.diff(x1)\n",
    "     var2=np.var(x2,ddof=1)\n",
    "     ce=(var2/var1-var1/var0)**(1/2)\n",
    "     car[s,3]=ce\n",
    "     nomesc[3]='complexidade'\n",
    "\n",
    "    ##calculando o espectro:\n",
    "     yf = np.abs(fft.fft(sin[s,:]-car[s,0]))**2 \n",
    "     yf=yf/np.size(yf)\n",
    "     yf=yf[0:X//2]\n",
    "     xf = np.linspace(0.0, 1.0/(2.0/freq), X//2)  \n",
    "     Yf=yf/np.sum(yf) \n",
    "\n",
    "    #frequência central do espectro\n",
    "     car[s,4]=np.sum(xf*Yf)\n",
    "     nomesc[4]='f-central'\n",
    "\n",
    "    #potencia na frequencia central\n",
    "     ifc=np.abs(xf-car[s,4])==np.min(np.abs(xf-car[s,4]))\n",
    "     car[s,5]=yf[ifc]\n",
    "     nomesc[5]='P na fc'\n",
    "\n",
    "    #largura de banda do espectro\n",
    "     car[s,6]=np.sqrt(np.sum(((xf-car[s,4])**2)*Yf))\n",
    "     nomesc[6]='l-banda'\n",
    "\n",
    "    #frequência de margem do espectro\n",
    "     sw=np.cumsum(Yf)\n",
    "     f=np.max(np.where(sw<=0.9)[0])\n",
    "     car[s,7]=xf[f]\n",
    "     nomesc[7]='f-margem'\n",
    "\n",
    "    #potências espectrais normalizadas nas seguintes bandas: \n",
    "    #delta 1 (0.5 a 2.5Hz)\n",
    "     for ib, b in enumerate(bandas):\n",
    "        car[s,8+ib]=sum(Yf[((xf>=bandas[b][0]) & (xf<=bandas[b][1]))])\n",
    "        nomesc[8+ib]=b\n",
    "\n",
    "  return (car,nomesc)"
   ]
  },
  {
   "cell_type": "code",
   "execution_count": 296,
   "metadata": {},
   "outputs": [],
   "source": [
    "P2ex1 = scipy.io.loadmat('P2ex1.mat')\n",
    "P2ex2 = scipy.io.loadmat('P2ex2.mat')"
   ]
  },
  {
   "cell_type": "markdown",
   "metadata": {},
   "source": [
    "# Questão 1"
   ]
  },
  {
   "cell_type": "code",
   "execution_count": 297,
   "metadata": {},
   "outputs": [
    {
     "name": "stdout",
     "output_type": "stream",
     "text": [
      "Shape controle: (179, 145) \n",
      " Shape hiper: (205, 145)\n"
     ]
    }
   ],
   "source": [
    "dados_controle = P2ex1.get('Controle')\n",
    "dados_hipertensao = P2ex1.get('Hipertensao')\n",
    "df_controle = pd.DataFrame(dados_controle)\n",
    "df_hipertensao = pd.DataFrame(dados_hipertensao)\n",
    "print(f'Shape controle: {df_controle.shape} \\n Shape hiper: {df_hipertensao.shape}')"
   ]
  },
  {
   "cell_type": "code",
   "execution_count": 298,
   "metadata": {},
   "outputs": [
    {
     "data": {
      "text/html": [
       "<div>\n",
       "<style scoped>\n",
       "    .dataframe tbody tr th:only-of-type {\n",
       "        vertical-align: middle;\n",
       "    }\n",
       "\n",
       "    .dataframe tbody tr th {\n",
       "        vertical-align: top;\n",
       "    }\n",
       "\n",
       "    .dataframe thead th {\n",
       "        text-align: right;\n",
       "    }\n",
       "</style>\n",
       "<table border=\"1\" class=\"dataframe\">\n",
       "  <thead>\n",
       "    <tr style=\"text-align: right;\">\n",
       "      <th></th>\n",
       "      <th>0</th>\n",
       "      <th>1</th>\n",
       "      <th>2</th>\n",
       "      <th>3</th>\n",
       "      <th>4</th>\n",
       "      <th>5</th>\n",
       "      <th>6</th>\n",
       "      <th>7</th>\n",
       "      <th>8</th>\n",
       "      <th>9</th>\n",
       "      <th>...</th>\n",
       "      <th>135</th>\n",
       "      <th>136</th>\n",
       "      <th>137</th>\n",
       "      <th>138</th>\n",
       "      <th>139</th>\n",
       "      <th>140</th>\n",
       "      <th>141</th>\n",
       "      <th>142</th>\n",
       "      <th>143</th>\n",
       "      <th>144</th>\n",
       "    </tr>\n",
       "  </thead>\n",
       "  <tbody>\n",
       "    <tr>\n",
       "      <th>0</th>\n",
       "      <td>97.789053</td>\n",
       "      <td>98.109827</td>\n",
       "      <td>98.642264</td>\n",
       "      <td>99.241092</td>\n",
       "      <td>99.691786</td>\n",
       "      <td>99.872289</td>\n",
       "      <td>99.853931</td>\n",
       "      <td>99.861454</td>\n",
       "      <td>100.113092</td>\n",
       "      <td>100.648959</td>\n",
       "      <td>...</td>\n",
       "      <td>96.209224</td>\n",
       "      <td>96.843400</td>\n",
       "      <td>97.216974</td>\n",
       "      <td>97.339165</td>\n",
       "      <td>97.284354</td>\n",
       "      <td>97.127745</td>\n",
       "      <td>96.926795</td>\n",
       "      <td>96.742595</td>\n",
       "      <td>96.657124</td>\n",
       "      <td>96.749649</td>\n",
       "    </tr>\n",
       "    <tr>\n",
       "      <th>1</th>\n",
       "      <td>99.866386</td>\n",
       "      <td>99.231337</td>\n",
       "      <td>98.685948</td>\n",
       "      <td>98.256530</td>\n",
       "      <td>97.898481</td>\n",
       "      <td>97.596097</td>\n",
       "      <td>97.432849</td>\n",
       "      <td>97.570605</td>\n",
       "      <td>98.146373</td>\n",
       "      <td>99.158674</td>\n",
       "      <td>...</td>\n",
       "      <td>99.503832</td>\n",
       "      <td>99.438735</td>\n",
       "      <td>99.189333</td>\n",
       "      <td>99.022957</td>\n",
       "      <td>99.187451</td>\n",
       "      <td>99.764166</td>\n",
       "      <td>100.641259</td>\n",
       "      <td>101.606441</td>\n",
       "      <td>102.474843</td>\n",
       "      <td>103.156832</td>\n",
       "    </tr>\n",
       "    <tr>\n",
       "      <th>2</th>\n",
       "      <td>105.745841</td>\n",
       "      <td>104.509097</td>\n",
       "      <td>103.154597</td>\n",
       "      <td>102.226159</td>\n",
       "      <td>102.044198</td>\n",
       "      <td>102.564670</td>\n",
       "      <td>103.439027</td>\n",
       "      <td>104.229616</td>\n",
       "      <td>104.643701</td>\n",
       "      <td>104.647797</td>\n",
       "      <td>...</td>\n",
       "      <td>105.147005</td>\n",
       "      <td>105.664908</td>\n",
       "      <td>106.018870</td>\n",
       "      <td>106.019067</td>\n",
       "      <td>105.669550</td>\n",
       "      <td>105.157139</td>\n",
       "      <td>104.724818</td>\n",
       "      <td>104.519590</td>\n",
       "      <td>104.518831</td>\n",
       "      <td>104.578139</td>\n",
       "    </tr>\n",
       "    <tr>\n",
       "      <th>3</th>\n",
       "      <td>93.257908</td>\n",
       "      <td>92.748847</td>\n",
       "      <td>92.404754</td>\n",
       "      <td>92.435870</td>\n",
       "      <td>92.812521</td>\n",
       "      <td>93.295372</td>\n",
       "      <td>93.604976</td>\n",
       "      <td>93.610231</td>\n",
       "      <td>93.403259</td>\n",
       "      <td>93.211384</td>\n",
       "      <td>...</td>\n",
       "      <td>102.788483</td>\n",
       "      <td>103.414351</td>\n",
       "      <td>103.396734</td>\n",
       "      <td>102.772704</td>\n",
       "      <td>101.797680</td>\n",
       "      <td>100.827006</td>\n",
       "      <td>100.145713</td>\n",
       "      <td>99.842590</td>\n",
       "      <td>99.790402</td>\n",
       "      <td>99.729131</td>\n",
       "    </tr>\n",
       "    <tr>\n",
       "      <th>4</th>\n",
       "      <td>105.030270</td>\n",
       "      <td>105.845368</td>\n",
       "      <td>106.629912</td>\n",
       "      <td>107.180936</td>\n",
       "      <td>107.469126</td>\n",
       "      <td>107.617695</td>\n",
       "      <td>107.769401</td>\n",
       "      <td>107.950562</td>\n",
       "      <td>108.041467</td>\n",
       "      <td>107.878573</td>\n",
       "      <td>...</td>\n",
       "      <td>100.230589</td>\n",
       "      <td>100.038591</td>\n",
       "      <td>100.211697</td>\n",
       "      <td>100.715714</td>\n",
       "      <td>101.332665</td>\n",
       "      <td>101.779632</td>\n",
       "      <td>101.874598</td>\n",
       "      <td>101.639876</td>\n",
       "      <td>101.274808</td>\n",
       "      <td>101.018054</td>\n",
       "    </tr>\n",
       "    <tr>\n",
       "      <th>...</th>\n",
       "      <td>...</td>\n",
       "      <td>...</td>\n",
       "      <td>...</td>\n",
       "      <td>...</td>\n",
       "      <td>...</td>\n",
       "      <td>...</td>\n",
       "      <td>...</td>\n",
       "      <td>...</td>\n",
       "      <td>...</td>\n",
       "      <td>...</td>\n",
       "      <td>...</td>\n",
       "      <td>...</td>\n",
       "      <td>...</td>\n",
       "      <td>...</td>\n",
       "      <td>...</td>\n",
       "      <td>...</td>\n",
       "      <td>...</td>\n",
       "      <td>...</td>\n",
       "      <td>...</td>\n",
       "      <td>...</td>\n",
       "      <td>...</td>\n",
       "    </tr>\n",
       "    <tr>\n",
       "      <th>174</th>\n",
       "      <td>100.911281</td>\n",
       "      <td>100.479947</td>\n",
       "      <td>100.742637</td>\n",
       "      <td>101.687190</td>\n",
       "      <td>103.012016</td>\n",
       "      <td>104.278891</td>\n",
       "      <td>105.142181</td>\n",
       "      <td>105.509117</td>\n",
       "      <td>105.539641</td>\n",
       "      <td>105.504800</td>\n",
       "      <td>...</td>\n",
       "      <td>106.166082</td>\n",
       "      <td>106.303941</td>\n",
       "      <td>105.970752</td>\n",
       "      <td>105.359712</td>\n",
       "      <td>104.808853</td>\n",
       "      <td>104.610514</td>\n",
       "      <td>104.873428</td>\n",
       "      <td>105.502093</td>\n",
       "      <td>106.278012</td>\n",
       "      <td>106.972806</td>\n",
       "    </tr>\n",
       "    <tr>\n",
       "      <th>175</th>\n",
       "      <td>108.775030</td>\n",
       "      <td>109.200450</td>\n",
       "      <td>109.869029</td>\n",
       "      <td>110.560679</td>\n",
       "      <td>110.997454</td>\n",
       "      <td>110.990236</td>\n",
       "      <td>110.546138</td>\n",
       "      <td>109.864473</td>\n",
       "      <td>109.219431</td>\n",
       "      <td>108.802879</td>\n",
       "      <td>...</td>\n",
       "      <td>110.662503</td>\n",
       "      <td>110.383015</td>\n",
       "      <td>109.623118</td>\n",
       "      <td>108.616256</td>\n",
       "      <td>107.654394</td>\n",
       "      <td>106.960970</td>\n",
       "      <td>106.625220</td>\n",
       "      <td>106.620059</td>\n",
       "      <td>106.869230</td>\n",
       "      <td>107.304700</td>\n",
       "    </tr>\n",
       "    <tr>\n",
       "      <th>176</th>\n",
       "      <td>102.887003</td>\n",
       "      <td>102.173324</td>\n",
       "      <td>101.402404</td>\n",
       "      <td>100.764912</td>\n",
       "      <td>100.283074</td>\n",
       "      <td>99.842874</td>\n",
       "      <td>99.322853</td>\n",
       "      <td>98.718347</td>\n",
       "      <td>98.169127</td>\n",
       "      <td>97.870319</td>\n",
       "      <td>...</td>\n",
       "      <td>100.295768</td>\n",
       "      <td>100.683046</td>\n",
       "      <td>100.768109</td>\n",
       "      <td>100.658038</td>\n",
       "      <td>100.664282</td>\n",
       "      <td>101.111068</td>\n",
       "      <td>102.124129</td>\n",
       "      <td>103.533674</td>\n",
       "      <td>104.954851</td>\n",
       "      <td>105.994683</td>\n",
       "    </tr>\n",
       "    <tr>\n",
       "      <th>177</th>\n",
       "      <td>90.891911</td>\n",
       "      <td>90.844519</td>\n",
       "      <td>91.035216</td>\n",
       "      <td>91.244918</td>\n",
       "      <td>91.247174</td>\n",
       "      <td>90.972266</td>\n",
       "      <td>90.558864</td>\n",
       "      <td>90.259142</td>\n",
       "      <td>90.265509</td>\n",
       "      <td>90.580459</td>\n",
       "      <td>...</td>\n",
       "      <td>98.286713</td>\n",
       "      <td>97.391942</td>\n",
       "      <td>96.223492</td>\n",
       "      <td>95.143803</td>\n",
       "      <td>94.406600</td>\n",
       "      <td>94.068047</td>\n",
       "      <td>94.029420</td>\n",
       "      <td>94.156692</td>\n",
       "      <td>94.379843</td>\n",
       "      <td>94.705751</td>\n",
       "    </tr>\n",
       "    <tr>\n",
       "      <th>178</th>\n",
       "      <td>102.285295</td>\n",
       "      <td>101.671644</td>\n",
       "      <td>100.932626</td>\n",
       "      <td>100.270254</td>\n",
       "      <td>99.707258</td>\n",
       "      <td>99.113243</td>\n",
       "      <td>98.342012</td>\n",
       "      <td>97.372519</td>\n",
       "      <td>96.349450</td>\n",
       "      <td>95.498348</td>\n",
       "      <td>...</td>\n",
       "      <td>98.236935</td>\n",
       "      <td>98.743874</td>\n",
       "      <td>98.804810</td>\n",
       "      <td>98.596735</td>\n",
       "      <td>98.475551</td>\n",
       "      <td>98.772470</td>\n",
       "      <td>99.593714</td>\n",
       "      <td>100.750411</td>\n",
       "      <td>101.861354</td>\n",
       "      <td>102.562421</td>\n",
       "    </tr>\n",
       "  </tbody>\n",
       "</table>\n",
       "<p>179 rows × 145 columns</p>\n",
       "</div>"
      ],
      "text/plain": [
       "            0           1           2           3           4           5    \\\n",
       "0     97.789053   98.109827   98.642264   99.241092   99.691786   99.872289   \n",
       "1     99.866386   99.231337   98.685948   98.256530   97.898481   97.596097   \n",
       "2    105.745841  104.509097  103.154597  102.226159  102.044198  102.564670   \n",
       "3     93.257908   92.748847   92.404754   92.435870   92.812521   93.295372   \n",
       "4    105.030270  105.845368  106.629912  107.180936  107.469126  107.617695   \n",
       "..          ...         ...         ...         ...         ...         ...   \n",
       "174  100.911281  100.479947  100.742637  101.687190  103.012016  104.278891   \n",
       "175  108.775030  109.200450  109.869029  110.560679  110.997454  110.990236   \n",
       "176  102.887003  102.173324  101.402404  100.764912  100.283074   99.842874   \n",
       "177   90.891911   90.844519   91.035216   91.244918   91.247174   90.972266   \n",
       "178  102.285295  101.671644  100.932626  100.270254   99.707258   99.113243   \n",
       "\n",
       "            6           7           8           9    ...         135  \\\n",
       "0     99.853931   99.861454  100.113092  100.648959  ...   96.209224   \n",
       "1     97.432849   97.570605   98.146373   99.158674  ...   99.503832   \n",
       "2    103.439027  104.229616  104.643701  104.647797  ...  105.147005   \n",
       "3     93.604976   93.610231   93.403259   93.211384  ...  102.788483   \n",
       "4    107.769401  107.950562  108.041467  107.878573  ...  100.230589   \n",
       "..          ...         ...         ...         ...  ...         ...   \n",
       "174  105.142181  105.509117  105.539641  105.504800  ...  106.166082   \n",
       "175  110.546138  109.864473  109.219431  108.802879  ...  110.662503   \n",
       "176   99.322853   98.718347   98.169127   97.870319  ...  100.295768   \n",
       "177   90.558864   90.259142   90.265509   90.580459  ...   98.286713   \n",
       "178   98.342012   97.372519   96.349450   95.498348  ...   98.236935   \n",
       "\n",
       "            136         137         138         139         140         141  \\\n",
       "0     96.843400   97.216974   97.339165   97.284354   97.127745   96.926795   \n",
       "1     99.438735   99.189333   99.022957   99.187451   99.764166  100.641259   \n",
       "2    105.664908  106.018870  106.019067  105.669550  105.157139  104.724818   \n",
       "3    103.414351  103.396734  102.772704  101.797680  100.827006  100.145713   \n",
       "4    100.038591  100.211697  100.715714  101.332665  101.779632  101.874598   \n",
       "..          ...         ...         ...         ...         ...         ...   \n",
       "174  106.303941  105.970752  105.359712  104.808853  104.610514  104.873428   \n",
       "175  110.383015  109.623118  108.616256  107.654394  106.960970  106.625220   \n",
       "176  100.683046  100.768109  100.658038  100.664282  101.111068  102.124129   \n",
       "177   97.391942   96.223492   95.143803   94.406600   94.068047   94.029420   \n",
       "178   98.743874   98.804810   98.596735   98.475551   98.772470   99.593714   \n",
       "\n",
       "            142         143         144  \n",
       "0     96.742595   96.657124   96.749649  \n",
       "1    101.606441  102.474843  103.156832  \n",
       "2    104.519590  104.518831  104.578139  \n",
       "3     99.842590   99.790402   99.729131  \n",
       "4    101.639876  101.274808  101.018054  \n",
       "..          ...         ...         ...  \n",
       "174  105.502093  106.278012  106.972806  \n",
       "175  106.620059  106.869230  107.304700  \n",
       "176  103.533674  104.954851  105.994683  \n",
       "177   94.156692   94.379843   94.705751  \n",
       "178  100.750411  101.861354  102.562421  \n",
       "\n",
       "[179 rows x 145 columns]"
      ]
     },
     "execution_count": 298,
     "metadata": {},
     "output_type": "execute_result"
    }
   ],
   "source": [
    "df_controle"
   ]
  },
  {
   "cell_type": "code",
   "execution_count": 299,
   "metadata": {},
   "outputs": [
    {
     "data": {
      "text/plain": [
       "240"
      ]
     },
     "execution_count": 299,
     "metadata": {},
     "output_type": "execute_result"
    }
   ],
   "source": [
    "4*60"
   ]
  },
  {
   "cell_type": "code",
   "execution_count": 300,
   "metadata": {},
   "outputs": [],
   "source": [
    "fs = 0.1\n",
    "signal_map = {\n",
    "    'baixa': [0, 60],\n",
    "    'alta': [60, 240],\n",
    "}"
   ]
  },
  {
   "cell_type": "code",
   "execution_count": 301,
   "metadata": {},
   "outputs": [
    {
     "data": {
      "text/plain": [
       "(205, 15)"
      ]
     },
     "execution_count": 301,
     "metadata": {},
     "output_type": "execute_result"
    }
   ],
   "source": [
    "# Classe patológica: hipertensão\n",
    "caracteristicas, nomes = extraicarac(\n",
    "    dados_hipertensao, fs, signal_map)\n",
    "caracteristicas.shape"
   ]
  },
  {
   "cell_type": "code",
   "execution_count": 302,
   "metadata": {},
   "outputs": [
    {
     "data": {
      "text/plain": [
       "['media',\n",
       " 'variancia',\n",
       " 'mobilidade',\n",
       " 'complexidade',\n",
       " 'f-central',\n",
       " 'P na fc',\n",
       " 'l-banda',\n",
       " 'f-margem',\n",
       " 'baixa',\n",
       " 'alta',\n",
       " None,\n",
       " None,\n",
       " None,\n",
       " None,\n",
       " None]"
      ]
     },
     "execution_count": 302,
     "metadata": {},
     "output_type": "execute_result"
    }
   ],
   "source": [
    "nomes"
   ]
  },
  {
   "cell_type": "markdown",
   "metadata": {},
   "source": [
    "Exibindo valor médio de cada característica"
   ]
  },
  {
   "cell_type": "code",
   "execution_count": 303,
   "metadata": {},
   "outputs": [
    {
     "name": "stderr",
     "output_type": "stream",
     "text": [
      "/home/caiomorozini/.local/lib/python3.10/site-packages/numpy/core/fromnumeric.py:3430: FutureWarning: In a future version, DataFrame.mean(axis=None) will return a scalar mean over the entire DataFrame. To retain the old behavior, use 'frame.mean(axis=0)' or just 'frame.mean()'\n",
      "  return mean(axis=axis, dtype=dtype, out=out, **kwargs)\n"
     ]
    },
    {
     "data": {
      "text/plain": [
       "0      99.362420\n",
       "1      40.646952\n",
       "2       0.053677\n",
       "3       0.423376\n",
       "4       0.003515\n",
       "5     328.653973\n",
       "6       0.004193\n",
       "7       0.006190\n",
       "8       1.000000\n",
       "9       0.000000\n",
       "10      0.000000\n",
       "11      0.000000\n",
       "12      0.000000\n",
       "13      0.000000\n",
       "14      0.000000\n",
       "dtype: float64"
      ]
     },
     "execution_count": 303,
     "metadata": {},
     "output_type": "execute_result"
    }
   ],
   "source": [
    "np.mean(pd.DataFrame(caracteristicas))"
   ]
  },
  {
   "cell_type": "markdown",
   "metadata": {},
   "source": [
    "## B"
   ]
  },
  {
   "cell_type": "code",
   "execution_count": 304,
   "metadata": {},
   "outputs": [],
   "source": [
    "def remoutliers(padroes,p,method='desvio'):\n",
    "    #Encontra outlires baseando-se em dois métodos possiveis:\n",
    "    #  method = 'desvio': mediana mais/menos p x desvio\n",
    "    #  method = 'quartis': quartis  +/- p x intervalo entre quartis\n",
    "    # padroes = numpy array de uma característica ( N x 1)\n",
    "    # p = numero de desvios ou de intervalos entre quartis a ser empregado \n",
    "    # retorna lista com as posicoes dos outliers no array\n",
    "    if method =='desvio':\n",
    "        md=np.median(padroes)\n",
    "        std=np.std(padroes,ddof=1)\n",
    "        th1=md+p*std\n",
    "        th2=md-p*std\n",
    "    elif method=='quartis':\n",
    "        q3, q1 = np.percentile(padroes, [75 ,25])\n",
    "        iqr=q3-q1\n",
    "        th1=q3+p*iqr\n",
    "        th2=q1-p*iqr\n",
    "    outliers=(padroes>th1) | (padroes<th2)\n",
    "    outs=[i for i, val in enumerate(outliers) if val]\n",
    "    return outs"
   ]
  },
  {
   "cell_type": "code",
   "execution_count": 305,
   "metadata": {},
   "outputs": [
    {
     "data": {
      "text/plain": [
       "array([[ 97.78905334,  99.8663857 , 105.74584072, ..., 102.88700294,\n",
       "         90.89191054, 102.28529467],\n",
       "       [ 98.10982706,  99.23133731, 104.50909708, ..., 102.17332385,\n",
       "         90.84451939, 101.6716435 ],\n",
       "       [ 98.64226353,  98.68594767, 103.15459694, ..., 101.40240436,\n",
       "         91.03521609, 100.93262632],\n",
       "       ...,\n",
       "       [ 96.74259499, 101.6064407 , 104.51958983, ..., 103.53367422,\n",
       "         94.15669169, 100.75041071],\n",
       "       [ 96.65712432, 102.47484275, 104.51883082, ..., 104.95485143,\n",
       "         94.379843  , 101.86135399],\n",
       "       [ 96.74964871, 103.15683246, 104.57813911, ..., 105.99468316,\n",
       "         94.70575147, 102.56242081]])"
      ]
     },
     "execution_count": 305,
     "metadata": {},
     "output_type": "execute_result"
    }
   ],
   "source": [
    "dados_controle.transpose()"
   ]
  },
  {
   "cell_type": "code",
   "execution_count": 306,
   "metadata": {},
   "outputs": [],
   "source": [
    "# Extraindo outliers\n",
    "caracteristicas2, nomes = extraicarac(\n",
    "    dados_controle, fs, signal_map)"
   ]
  },
  {
   "cell_type": "code",
   "execution_count": 307,
   "metadata": {},
   "outputs": [],
   "source": [
    "nomes2 = [nome for nome in nomes if nome]"
   ]
  },
  {
   "cell_type": "code",
   "execution_count": 308,
   "metadata": {},
   "outputs": [],
   "source": [
    "x = list()\n",
    "for index, _ in enumerate(caracteristicas2):\n",
    "    x.extend(remoutliers(caracteristicas2[index], p=1.5, method='quartis'))\n"
   ]
  },
  {
   "cell_type": "code",
   "execution_count": 309,
   "metadata": {},
   "outputs": [],
   "source": [
    "y = list()\n",
    "for out in x:\n",
    "    if out not in y:\n",
    "        y.append(out)"
   ]
  },
  {
   "cell_type": "code",
   "execution_count": 310,
   "metadata": {},
   "outputs": [
    {
     "data": {
      "text/plain": [
       "(179, 15)"
      ]
     },
     "execution_count": 310,
     "metadata": {},
     "output_type": "execute_result"
    }
   ],
   "source": [
    "caracteristicas2.shape"
   ]
  },
  {
   "cell_type": "code",
   "execution_count": 311,
   "metadata": {},
   "outputs": [
    {
     "data": {
      "text/plain": [
       "176"
      ]
     },
     "execution_count": 311,
     "metadata": {},
     "output_type": "execute_result"
    }
   ],
   "source": [
    "179 - len(y)\n",
    "# Sobraram 176 padrões"
   ]
  },
  {
   "cell_type": "markdown",
   "metadata": {},
   "source": [
    "## C"
   ]
  },
  {
   "cell_type": "code",
   "execution_count": 312,
   "metadata": {},
   "outputs": [],
   "source": [
    "def normaliza(dados,metodo='linear',r=1):\n",
    "    #Realiza a normalizacao de um conjunto de padroes\n",
    "    # dados = numpy array com padroes de uma caracteristica N x 1\n",
    "    # metodo ='linear' : normalizacao linear (padrao)\n",
    "    #        = 'mmx': limitada entre -1 e 1\n",
    "    #        = 'sfm': rescala nao linear no intervalo 0 a 1\n",
    "    # r = parametro do metodo sfm (padrao =1)\n",
    "    #A função retorna os dados normalizados\n",
    "    if metodo=='linear':\n",
    "        M=np.mean(dados)\n",
    "        S=np.std(dados,ddof=1)\n",
    "        dadosnorm=(dados-M)/S\n",
    "    elif metodo=='mmx':\n",
    "        dadosnorm=2*dados/(np.max(dados)-np.min(dados))\n",
    "        dadosnorm=dadosnorm - (np.min(dadosnorm)+1)\n",
    "    elif metodo=='sfm':\n",
    "        x=dados-np.mean(dados)\n",
    "        x=-x/(r*np.std(dados))\n",
    "        dadosnorm=1/(1+np.exp(x))\n",
    "    return dadosnorm"
   ]
  },
  {
   "cell_type": "code",
   "execution_count": 313,
   "metadata": {},
   "outputs": [
    {
     "data": {
      "text/plain": [
       "['media',\n",
       " 'variancia',\n",
       " 'mobilidade',\n",
       " 'complexidade',\n",
       " 'f-central',\n",
       " 'P na fc',\n",
       " 'l-banda',\n",
       " 'f-margem',\n",
       " 'baixa',\n",
       " 'alta',\n",
       " None,\n",
       " None,\n",
       " None,\n",
       " None,\n",
       " None]"
      ]
     },
     "execution_count": 313,
     "metadata": {},
     "output_type": "execute_result"
    }
   ],
   "source": [
    "nomes"
   ]
  },
  {
   "cell_type": "code",
   "execution_count": 314,
   "metadata": {},
   "outputs": [],
   "source": [
    "complexidade_classe_saudavel = caracteristicas2.transpose()[2]"
   ]
  },
  {
   "cell_type": "code",
   "execution_count": 315,
   "metadata": {},
   "outputs": [],
   "source": [
    "complex_norm = normaliza(complexidade_classe_saudavel)"
   ]
  },
  {
   "cell_type": "code",
   "execution_count": 316,
   "metadata": {},
   "outputs": [
    {
     "name": "stdout",
     "output_type": "stream",
     "text": [
      "valor médio: 0.0\n"
     ]
    }
   ],
   "source": [
    "print(f\"valor médio: {np.mean(complex_norm)}\")"
   ]
  },
  {
   "cell_type": "code",
   "execution_count": 317,
   "metadata": {},
   "outputs": [
    {
     "data": {
      "text/plain": [
       "[<matplotlib.lines.Line2D at 0x7fdc7af81750>]"
      ]
     },
     "execution_count": 317,
     "metadata": {},
     "output_type": "execute_result"
    },
    {
     "data": {
      "image/png": "[encoded data removed]",
      "text/plain": [
       "<Figure size 640x480 with 1 Axes>"
      ]
     },
     "metadata": {},
     "output_type": "display_data"
    }
   ],
   "source": [
    "plt.plot(complex_norm)"
   ]
  },
  {
   "cell_type": "markdown",
   "metadata": {},
   "source": [
    "# Questão 2"
   ]
  },
  {
   "cell_type": "code",
   "execution_count": 318,
   "metadata": {},
   "outputs": [
    {
     "name": "stdout",
     "output_type": "stream",
     "text": [
      "Shape dados1: (31, 80) \n",
      " dados2 hiper: (31, 104)\n"
     ]
    }
   ],
   "source": [
    "saudavel = P2ex2.get('dados1')\n",
    "cancer = P2ex2.get('dados2')\n",
    "df_dados1 = pd.DataFrame(saudavel)\n",
    "df_dados2 = pd.DataFrame(cancer)\n",
    "print(f'Shape dados1: {saudavel.shape} \\n dados2 hiper: {cancer.shape}')"
   ]
  },
  {
   "cell_type": "markdown",
   "metadata": {},
   "source": [
    "## A"
   ]
  },
  {
   "cell_type": "code",
   "execution_count": 319,
   "metadata": {},
   "outputs": [],
   "source": [
    "def PCA(dados, m):\n",
    "    '''\n",
    "    :param dados: matriz de LXN caracteristicas X padrões\n",
    "    :param m: quantidade de features desejadas no novo espaço\n",
    "\n",
    "    :return: tupla contendo:\n",
    "        * os autovalores em ordem descrescente com seus indices correspondedo a\n",
    "        cada coluna dos autovetores\n",
    "        * autovetores matriz LXL (caracteristica por caracteristica)\n",
    "        * dados_novo_espaco: matriz m x N depois de aplicada a PCA (redução do espaço de L\n",
    "        para m e retirada de dependência linear)\n",
    "        * erro_quadratico_medio: demonstra a porcentagem que essas features tranformadas\n",
    "        representam de todo o espaço\n",
    "    '''\n",
    "\n",
    "    matriz_covariancia = np.cov(dados, ddof=0)\n",
    "    #Retorna os autovalores e autovetores de uma matriz.\n",
    "    #Retorna dois objetos, uma matriz 1-D contendo os autovalores de\n",
    "    # a e uma matriz ou matriz quadrada 2-D\n",
    "    # dos autovetores correspondentes (em colunas).\n",
    "    # ou seja autovalores = [1, 2, 3]\n",
    "    #autovetores:\n",
    "    #               [\n",
    "    #                   [0 2 6],\n",
    "    #                   [0 3 1],\n",
    "    #                   [2 2 4],\n",
    "    #               ]\n",
    "    #sendo cada coluna um vetor dessa forma 1 seria o autovalor de 0 0 2\n",
    "    # 2 seria de 2 3 2 e 3 de 6 1 4\n",
    "    #Os autovalores estão em ordem crescente\n",
    "    #A coluna é o autovetor normalizado correspondente ao autovalor .\n",
    "    autovalores, autovetores = np.linalg.eigh(matriz_covariancia)\n",
    "    autovalores = autovalores[::-1]\n",
    "    autovetores = autovetores[:, ::-1]\n",
    "\n",
    "    #embora a função cuspa os autovetores nas colunas para a matempatica funcionar\n",
    "    #precisamos usar eles nas linhas por isso fazemos a tranposição, assim temos:\n",
    "    # A(m x L) * D(L x N) = NE(m X N)\n",
    "    #ssim continuamos com os mesmos padrões mas reduzimos o espaço de L caracteristicas\n",
    "    #para m, com uma operação matempatica que garante a não linearidade entre elas, para\n",
    "    #testar basta tirar a covariancia das caracteristicas e observar que o resltado é uma\n",
    "    #matriz diagonal onde a diaginal são exatamente os autovalores.\n",
    "    dados_novo_espaco = autovetores[:, 0:m].T @ dados\n",
    "    erro_quadratico_medio = 1 - (sum(autovalores[0:m]) / sum(autovalores))\n",
    "\n",
    "\n",
    "    return (autovalores, autovetores, dados_novo_espaco, erro_quadratico_medio)\n"
   ]
  },
  {
   "cell_type": "code",
   "execution_count": 320,
   "metadata": {},
   "outputs": [
    {
     "data": {
      "text/plain": [
       "(31, 80)"
      ]
     },
     "execution_count": 320,
     "metadata": {},
     "output_type": "execute_result"
    }
   ],
   "source": [
    "saudavel.shape"
   ]
  },
  {
   "cell_type": "code",
   "execution_count": 321,
   "metadata": {},
   "outputs": [],
   "source": [
    "aval_saudavel, avet_saudave, pca_saudavel, saudavel_erro_quadratico_medio = (\n",
    "    PCA(saudavel, 4))\n",
    "aval_cancer, avet_cancer, pca_cancer, cancer_erro = (\n",
    "    PCA(cancer,4)\n",
    ")"
   ]
  },
  {
   "cell_type": "markdown",
   "metadata": {},
   "source": [
    "## A"
   ]
  },
  {
   "cell_type": "code",
   "execution_count": 322,
   "metadata": {},
   "outputs": [
    {
     "data": {
      "text/html": [
       "<div>\n",
       "<style scoped>\n",
       "    .dataframe tbody tr th:only-of-type {\n",
       "        vertical-align: middle;\n",
       "    }\n",
       "\n",
       "    .dataframe tbody tr th {\n",
       "        vertical-align: top;\n",
       "    }\n",
       "\n",
       "    .dataframe thead th {\n",
       "        text-align: right;\n",
       "    }\n",
       "</style>\n",
       "<table border=\"1\" class=\"dataframe\">\n",
       "  <thead>\n",
       "    <tr style=\"text-align: right;\">\n",
       "      <th></th>\n",
       "      <th>0</th>\n",
       "      <th>1</th>\n",
       "      <th>2</th>\n",
       "      <th>3</th>\n",
       "    </tr>\n",
       "  </thead>\n",
       "  <tbody>\n",
       "    <tr>\n",
       "      <th>0</th>\n",
       "      <td>1.598458e+01</td>\n",
       "      <td>-3.511160e-15</td>\n",
       "      <td>1.164182e-15</td>\n",
       "      <td>-1.494339e-15</td>\n",
       "    </tr>\n",
       "    <tr>\n",
       "      <th>1</th>\n",
       "      <td>-3.511160e-15</td>\n",
       "      <td>8.836596e+00</td>\n",
       "      <td>-2.231799e-15</td>\n",
       "      <td>6.890355e-16</td>\n",
       "    </tr>\n",
       "    <tr>\n",
       "      <th>2</th>\n",
       "      <td>1.164182e-15</td>\n",
       "      <td>-2.231799e-15</td>\n",
       "      <td>3.200317e+00</td>\n",
       "      <td>1.772170e-15</td>\n",
       "    </tr>\n",
       "    <tr>\n",
       "      <th>3</th>\n",
       "      <td>-1.494339e-15</td>\n",
       "      <td>6.890355e-16</td>\n",
       "      <td>1.772170e-15</td>\n",
       "      <td>2.898968e+00</td>\n",
       "    </tr>\n",
       "  </tbody>\n",
       "</table>\n",
       "</div>"
      ],
      "text/plain": [
       "              0             1             2             3\n",
       "0  1.598458e+01 -3.511160e-15  1.164182e-15 -1.494339e-15\n",
       "1 -3.511160e-15  8.836596e+00 -2.231799e-15  6.890355e-16\n",
       "2  1.164182e-15 -2.231799e-15  3.200317e+00  1.772170e-15\n",
       "3 -1.494339e-15  6.890355e-16  1.772170e-15  2.898968e+00"
      ]
     },
     "execution_count": 322,
     "metadata": {},
     "output_type": "execute_result"
    }
   ],
   "source": [
    "pd.DataFrame(np.cov(pca_saudavel))"
   ]
  },
  {
   "cell_type": "markdown",
   "metadata": {},
   "source": [
    "A variância da quarta componente saudável é 2.899"
   ]
  },
  {
   "cell_type": "code",
   "execution_count": 323,
   "metadata": {},
   "outputs": [
    {
     "data": {
      "text/html": [
       "<div>\n",
       "<style scoped>\n",
       "    .dataframe tbody tr th:only-of-type {\n",
       "        vertical-align: middle;\n",
       "    }\n",
       "\n",
       "    .dataframe tbody tr th {\n",
       "        vertical-align: top;\n",
       "    }\n",
       "\n",
       "    .dataframe thead th {\n",
       "        text-align: right;\n",
       "    }\n",
       "</style>\n",
       "<table border=\"1\" class=\"dataframe\">\n",
       "  <thead>\n",
       "    <tr style=\"text-align: right;\">\n",
       "      <th></th>\n",
       "      <th>0</th>\n",
       "      <th>1</th>\n",
       "      <th>2</th>\n",
       "      <th>3</th>\n",
       "    </tr>\n",
       "  </thead>\n",
       "  <tbody>\n",
       "    <tr>\n",
       "      <th>0</th>\n",
       "      <td>3.287735e+00</td>\n",
       "      <td>-9.094684e-17</td>\n",
       "      <td>-2.993527e-16</td>\n",
       "      <td>-4.275446e-17</td>\n",
       "    </tr>\n",
       "    <tr>\n",
       "      <th>1</th>\n",
       "      <td>-9.094684e-17</td>\n",
       "      <td>1.724187e+00</td>\n",
       "      <td>-5.916462e-16</td>\n",
       "      <td>3.089811e-16</td>\n",
       "    </tr>\n",
       "    <tr>\n",
       "      <th>2</th>\n",
       "      <td>-2.993527e-16</td>\n",
       "      <td>-5.916462e-16</td>\n",
       "      <td>9.876104e-01</td>\n",
       "      <td>5.231061e-16</td>\n",
       "    </tr>\n",
       "    <tr>\n",
       "      <th>3</th>\n",
       "      <td>-4.275446e-17</td>\n",
       "      <td>3.089811e-16</td>\n",
       "      <td>5.231061e-16</td>\n",
       "      <td>9.239963e-01</td>\n",
       "    </tr>\n",
       "  </tbody>\n",
       "</table>\n",
       "</div>"
      ],
      "text/plain": [
       "              0             1             2             3\n",
       "0  3.287735e+00 -9.094684e-17 -2.993527e-16 -4.275446e-17\n",
       "1 -9.094684e-17  1.724187e+00 -5.916462e-16  3.089811e-16\n",
       "2 -2.993527e-16 -5.916462e-16  9.876104e-01  5.231061e-16\n",
       "3 -4.275446e-17  3.089811e-16  5.231061e-16  9.239963e-01"
      ]
     },
     "execution_count": 323,
     "metadata": {},
     "output_type": "execute_result"
    }
   ],
   "source": [
    "pd.DataFrame(np.cov(pca_cancer))"
   ]
  },
  {
   "cell_type": "markdown",
   "metadata": {},
   "source": [
    "Variância da quarta componente para pacientes com cancer é 9.239963e-01"
   ]
  },
  {
   "cell_type": "markdown",
   "metadata": {},
   "source": [
    "## B"
   ]
  },
  {
   "cell_type": "code",
   "execution_count": 324,
   "metadata": {},
   "outputs": [
    {
     "data": {
      "text/plain": [
       "(4, 80)"
      ]
     },
     "execution_count": 324,
     "metadata": {},
     "output_type": "execute_result"
    }
   ],
   "source": [
    "pca_saudavel.shape"
   ]
  },
  {
   "cell_type": "code",
   "execution_count": 325,
   "metadata": {},
   "outputs": [
    {
     "data": {
      "text/plain": [
       "1.0030196352205851"
      ]
     },
     "execution_count": 325,
     "metadata": {},
     "output_type": "execute_result"
    }
   ],
   "source": [
    "np.mean(pca_saudavel[0,:])"
   ]
  },
  {
   "cell_type": "markdown",
   "metadata": {},
   "source": [
    "## Questão C"
   ]
  },
  {
   "cell_type": "code",
   "execution_count": 326,
   "metadata": {},
   "outputs": [],
   "source": [
    "_, _, _, erro_saudavel = PCA(saudavel, 3)\n",
    "_, _, _, erro_cancer = PCA(cancer, 3)\n"
   ]
  },
  {
   "cell_type": "code",
   "execution_count": 327,
   "metadata": {},
   "outputs": [
    {
     "name": "stdout",
     "output_type": "stream",
     "text": [
      "saudavel: 0.30185779525805434 | cancer: 0.38322396775696466\n"
     ]
    }
   ],
   "source": [
    "print(f\"saudavel: {erro_saudavel} | cancer: {erro_cancer}\")"
   ]
  },
  {
   "cell_type": "markdown",
   "metadata": {},
   "source": [
    "## D"
   ]
  },
  {
   "cell_type": "code",
   "execution_count": 328,
   "metadata": {},
   "outputs": [],
   "source": [
    "def ROC(valores, rotulos):\n",
    "\n",
    "    '''\n",
    "    :param valores: Todos os valores de uma dada característica\n",
    "    :param rotulos: Os respectivos rótulos para cada valor\n",
    "    :return: um vetor de verdadiros positivos e outro de falsos positivos\n",
    "    '''\n",
    "\n",
    "    #ATENÇÃO: A classe considerada negativa deve ser aquela que possui o menor\n",
    "    # de todos os valores, caso essa condição n seja satisfeita irá ocorrer um espelhamento\n",
    "    #no grafico e consequentemente em sua área. Digamos que a área era para ser 0.86, mas deu\n",
    "    #0.14 note que é exatemente 1 - 0.86, você saberá se houve um espelhamento caso a sua\n",
    "    #área tenha dado menor que 0.5 que seria o pior caso (com todas as caracteristicas sobrepostas)\n",
    "\n",
    "    df_aux = pd.DataFrame(np.array([valores, rotulos]).T, columns=['valor', 'rotulo'])\n",
    "    df_aux.sort_values('valor', inplace=True)\n",
    "    df_aux.reset_index(inplace=True)\n",
    "\n",
    "    VP_percent = []\n",
    "    FP_percent = []\n",
    "    thresholds = list(df_aux['valor'])\n",
    "    thresholds = [min(thresholds) - 1] + thresholds + [max(thresholds) + 1]\n",
    "    for valor in thresholds:\n",
    "        VP = df_aux[(df_aux['valor'] >= valor) & (df_aux['rotulo'] == 1)].shape[0]\n",
    "        FP = df_aux[(df_aux['valor'] >= valor) & (df_aux['rotulo'] == 0)].shape[0]\n",
    "        VN = df_aux[(df_aux['valor'] < valor) & (df_aux['rotulo'] == 0)].shape[0]\n",
    "        FN = df_aux[(df_aux['valor'] < valor) & (df_aux['rotulo'] == 1)].shape[0]\n",
    "\n",
    "        FP_percent.append(FP / (FP + VN))\n",
    "        VP_percent.append(VP / (VP + FN))\n",
    "\n",
    "\n",
    "\n",
    "    return (FP_percent, VP_percent)\n",
    "\n",
    "\n",
    "def AUC(VP, FP):\n",
    "\n",
    "    '''\n",
    "    :param VP: Vetor de valores verdadeiro positivos (eixo y, bases maior e menor trapézio)\n",
    "    :param FP: Vetor de valores falso positivos (eixo x, altura do trapézio)\n",
    "    :return: área abaixo da curva\n",
    "    '''\n",
    "\n",
    "    area = 0\n",
    "    for i in range(len(VP) - 1):\n",
    "        area += (VP[i] + VP[i + 1]) * (abs(FP[i + 1] - FP[i])) / 2\n",
    "\n",
    "    return area\n"
   ]
  },
  {
   "cell_type": "code",
   "execution_count": 329,
   "metadata": {},
   "outputs": [],
   "source": [
    "def calcula_AUC(\n",
    "    caracteristica_um: np.array,\n",
    "    caracteristica_dois: np.array\n",
    "    ) -> float:\n",
    "    c1_len, c2_len = len(caracteristica_um), len(caracteristica_dois)\n",
    "    labels = [0] * c1_len + [1] * c2_len\n",
    "    scores = list(caracteristica_um) + list(caracteristica_dois)\n",
    "    FP, VP = ROC(scores, labels)\n",
    "    return round(AUC(VP, FP), 4)"
   ]
  },
  {
   "cell_type": "code",
   "execution_count": 330,
   "metadata": {},
   "outputs": [],
   "source": [
    "def calcula_AUC_todas_caracteristicas(\n",
    "    classe1: pd.DataFrame,\n",
    "    classe2: pd.DataFrame\n",
    "    ) -> dict:\n",
    "    response_auc = dict()\n",
    "    caracteristicas = list(classe1.columns)\n",
    "    for caracteristica in caracteristicas:\n",
    "        c1, c2 = classe1[caracteristica], classe2[caracteristica]\n",
    "        response_auc[caracteristica] = (\n",
    "            calcula_AUC(c1.to_numpy(), c2.to_numpy())\n",
    "        )\n",
    "    return response_auc\n"
   ]
  },
  {
   "cell_type": "code",
   "execution_count": 331,
   "metadata": {},
   "outputs": [],
   "source": [
    "df_pca_saudavel = pd.DataFrame(pca_saudavel.transpose())\n",
    "df_pca_cancer = pd.DataFrame(pca_cancer.transpose())\n",
    "aucs = calcula_AUC_todas_caracteristicas(df_pca_cancer, df_pca_saudavel)"
   ]
  },
  {
   "cell_type": "code",
   "execution_count": 332,
   "metadata": {},
   "outputs": [],
   "source": [
    "response = dict()\n",
    "for key, carac in aucs.items():\n",
    "    if carac < 0.5:\n",
    "        response[key] = round(1 - carac, 4)\n",
    "    else:\n",
    "        response[key] = carac\n",
    "    "
   ]
  },
  {
   "cell_type": "code",
   "execution_count": 333,
   "metadata": {},
   "outputs": [
    {
     "data": {
      "text/plain": [
       "{0: 0.6304, 1: 0.953, 2: 0.5267, 3: 0.6198}"
      ]
     },
     "execution_count": 333,
     "metadata": {},
     "output_type": "execute_result"
    }
   ],
   "source": [
    "response"
   ]
  },
  {
   "cell_type": "markdown",
   "metadata": {},
   "source": [
    "Selecionaria apenas a caracteristica 3 (posição 2) pois quanto mais próximo de 1 menos sobreposição (valor de 0.953)\n",
    "as demais estão próximas de 0.5 que é o pior cenário"
   ]
  }
 ],
 "metadata": {
  "kernelspec": {
   "display_name": "Python 3.10.6 64-bit",
   "language": "python",
   "name": "python3"
  },
  "language_info": {
   "codemirror_mode": {
    "name": "ipython",
    "version": 3
   },
   "file_extension": ".py",
   "mimetype": "text/x-python",
   "name": "python",
   "nbconvert_exporter": "python",
   "pygments_lexer": "ipython3",
   "version": "3.10.6"
  },
  "orig_nbformat": 4,
  "vscode": {
   "interpreter": {
    "hash": "916dbcbb3f70747c44a77c7bcd40155683ae19c65e1c03b4aa3499c5328201f1"
   }
  }
 },
 "nbformat": 4,
 "nbformat_minor": 2
}
