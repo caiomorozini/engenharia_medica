{
 "cells": [
  {
   "cell_type": "code",
   "execution_count": 1,
   "metadata": {},
   "outputs": [],
   "source": [
    "import scipy\n",
    "import numpy as np\n",
    "import pandas as pd\n",
    "import matplotlib.pyplot as plt\n",
    "import seaborn as sns"
   ]
  },
  {
   "cell_type": "code",
   "execution_count": 2,
   "metadata": {},
   "outputs": [],
   "source": [
    "file = scipy.io.loadmat('../data/pratica_3/Dados 1.mat')\n"
   ]
  },
  {
   "cell_type": "markdown",
   "metadata": {},
   "source": [
    "# 1. Seleção escalar de características: implementação e teste.\n",
    "## a. Escreva uma função simples que carrega dois vetores e calcula o critério FDR de Fisher entre eles."
   ]
  },
  {
   "cell_type": "markdown",
   "metadata": {},
   "source": []
  },
  {
   "cell_type": "code",
   "execution_count": 16,
   "metadata": {},
   "outputs": [],
   "source": [
    "def calcula_criterio_FDR_fisher(v1: np.array, v2: np.array):\n",
    "    \"\"\"\n",
    "    Calcula o critério de FDR de Fisher\n",
    "    \"\"\"\n",
    "    return (np.mean(v1) - np.mean(v2)) ** 2 / \\\n",
    "      (np.var(v1) + np.var(v2)) ** 2\n",
    "\n"
   ]
  },
  {
   "cell_type": "code",
   "execution_count": 19,
   "metadata": {},
   "outputs": [],
   "source": [
    "x = np.matrix('1 0; 0 1')\n",
    "y = np.matrix('1 0; 1 1')"
   ]
  },
  {
   "cell_type": "code",
   "execution_count": 20,
   "metadata": {},
   "outputs": [
    {
     "data": {
      "text/plain": [
       "0.32653061224489793"
      ]
     },
     "execution_count": 20,
     "metadata": {},
     "output_type": "execute_result"
    }
   ],
   "source": [
    "calcula_criterio_FDR_fisher(x, y)"
   ]
  },
  {
   "cell_type": "code",
   "execution_count": 3,
   "metadata": {},
   "outputs": [
    {
     "data": {
      "text/plain": [
       "{'__header__': b'MATLAB 5.0 MAT-file, Platform: PCWIN64, Created on: Tue Oct 06 13:20:06 2015',\n",
       " '__version__': '1.0',\n",
       " '__globals__': [],\n",
       " 'figadoadiposo': array([[1.0085e+02, 2.4830e+01, 1.1100e+00, 6.2700e+00],\n",
       "        [1.1177e+02, 2.6310e+01, 1.9000e-01, 2.2900e+00],\n",
       "        [1.1413e+02, 2.5890e+01, 6.0000e-02, 2.4500e+00],\n",
       "        [9.8670e+01, 2.0610e+01, 2.4000e-01, 2.7100e+00],\n",
       "        [9.6960e+01, 2.0780e+01, 3.2000e-01, 2.4600e+00],\n",
       "        [1.1133e+02, 2.0380e+01, 2.8000e-01, 2.7600e+00],\n",
       "        [1.1476e+02, 2.3040e+01, 2.2000e-01, 2.5400e+00],\n",
       "        [1.2271e+02, 2.8270e+01, 9.0000e-01, 4.7300e+00],\n",
       "        [1.0644e+02, 2.2000e+01, 2.7000e-01, 2.4300e+00],\n",
       "        [1.0336e+02, 2.2310e+01, 1.8000e-01, 2.6700e+00]]),\n",
       " 'figadocirrotico': array([[73.73, 20.72,  0.19,  2.38],\n",
       "        [77.84, 22.07,  0.32,  3.1 ],\n",
       "        [78.43, 19.47,  0.53,  3.37],\n",
       "        [70.56, 19.65,  0.41,  2.91],\n",
       "        [70.27, 20.81,  0.78,  3.95],\n",
       "        [71.91, 16.79,  0.44,  2.8 ],\n",
       "        [71.35, 18.4 ,  0.84,  4.61],\n",
       "        [59.02, 17.84,  0.47,  2.51],\n",
       "        [67.36, 16.48,  0.25,  2.72],\n",
       "        [72.42, 21.33,  0.92,  5.32]])}"
      ]
     },
     "execution_count": 3,
     "metadata": {},
     "output_type": "execute_result"
    }
   ],
   "source": [
    "file"
   ]
  },
  {
   "cell_type": "code",
   "execution_count": 6,
   "metadata": {},
   "outputs": [],
   "source": [
    "figado_adiposo = file.get('figadoadiposo')\n",
    "figado_cirrotico = file.get('figadocirrotico')"
   ]
  },
  {
   "cell_type": "code",
   "execution_count": 7,
   "metadata": {},
   "outputs": [
    {
     "data": {
      "text/plain": [
       "array([[1.0085e+02, 2.4830e+01, 1.1100e+00, 6.2700e+00],\n",
       "       [1.1177e+02, 2.6310e+01, 1.9000e-01, 2.2900e+00],\n",
       "       [1.1413e+02, 2.5890e+01, 6.0000e-02, 2.4500e+00],\n",
       "       [9.8670e+01, 2.0610e+01, 2.4000e-01, 2.7100e+00],\n",
       "       [9.6960e+01, 2.0780e+01, 3.2000e-01, 2.4600e+00],\n",
       "       [1.1133e+02, 2.0380e+01, 2.8000e-01, 2.7600e+00],\n",
       "       [1.1476e+02, 2.3040e+01, 2.2000e-01, 2.5400e+00],\n",
       "       [1.2271e+02, 2.8270e+01, 9.0000e-01, 4.7300e+00],\n",
       "       [1.0644e+02, 2.2000e+01, 2.7000e-01, 2.4300e+00],\n",
       "       [1.0336e+02, 2.2310e+01, 1.8000e-01, 2.6700e+00]])"
      ]
     },
     "execution_count": 7,
     "metadata": {},
     "output_type": "execute_result"
    }
   ],
   "source": [
    "figado_adiposo"
   ]
  },
  {
   "cell_type": "code",
   "execution_count": null,
   "metadata": {},
   "outputs": [],
   "source": []
  }
 ],
 "metadata": {
  "kernelspec": {
   "display_name": "Python 3.10.4 64-bit",
   "language": "python",
   "name": "python3"
  },
  "language_info": {
   "codemirror_mode": {
    "name": "ipython",
    "version": 3
   },
   "file_extension": ".py",
   "mimetype": "text/x-python",
   "name": "python",
   "nbconvert_exporter": "python",
   "pygments_lexer": "ipython3",
   "version": "3.10.6"
  },
  "orig_nbformat": 4,
  "vscode": {
   "interpreter": {
    "hash": "916dbcbb3f70747c44a77c7bcd40155683ae19c65e1c03b4aa3499c5328201f1"
   }
  }
 },
 "nbformat": 4,
 "nbformat_minor": 2
}
