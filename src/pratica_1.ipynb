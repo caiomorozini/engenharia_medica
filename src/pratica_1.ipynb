{
 "cells": [
  {
   "cell_type": "code",
   "execution_count": 175,
   "metadata": {},
   "outputs": [],
   "source": [
    "%%capture\n",
    "%pip install scipy numpy pandas matplotlib seaborn"
   ]
  },
  {
   "cell_type": "code",
   "execution_count": 176,
   "metadata": {},
   "outputs": [],
   "source": [
    "from scipy.io import loadmat\n",
    "import numpy as np\n",
    "import pandas as pd\n",
    "import matplotlib.pyplot as plt\n",
    "import seaborn as sns\n",
    "import scipy"
   ]
  },
  {
   "cell_type": "markdown",
   "metadata": {},
   "source": [
    "# Atividade 1\n",
    "No arquivo “Atividade 1.mat”1 da Aula 06 (ver Moodle) você encontrará uma matriz\n",
    "“dados” com 4 linhas e 200 colunas. Cada linha corresponde a uma medida de velocidade\n",
    "de condução nervosa (em m/s) que foi coletada em um grupo de 200 indivíduos saudáveis.\n",
    "Reduções significativas nessas velocidades de condução podem estar associadas a\n",
    "diferentes condições patológicas, como doenças desmielinizantes, neurodegenerativas ou\n",
    "como a síndrome do túnel do carpo. Esta condição consiste no estreitamento da região do\n",
    "pulso por onde passa o nervo mediano (ver figura abaixo). Um dos testes diagnósticos\n",
    "realizados envolve justamente comparar a condução nervosa dos pacientes com os dados\n",
    "obtidos em indivíduos saudáveis em um exame de eletroneurografia. Conduções nervosas\n",
    "em indivíduos saudáveis observam distribuições aproximadamente gaussianas e a\n",
    "comparação de medidas registradas em pacientes com estas distribuições obtidas em\n",
    "saudáveis podem levar ao diagnóstico da Síndrome."
   ]
  },
  {
   "cell_type": "markdown",
   "metadata": {},
   "source": [
    "## Questão A"
   ]
  },
  {
   "cell_type": "code",
   "execution_count": 177,
   "metadata": {},
   "outputs": [],
   "source": [
    "file = loadmat('../data/pratica_1/Atividade 1.mat')\n",
    "dados = file.get('dados')"
   ]
  },
  {
   "cell_type": "code",
   "execution_count": 178,
   "metadata": {},
   "outputs": [],
   "source": [
    "df = pd.DataFrame(\n",
    "    dados)"
   ]
  },
  {
   "cell_type": "code",
   "execution_count": 179,
   "metadata": {},
   "outputs": [
    {
     "data": {
      "text/html": [
       "<div>\n",
       "<style scoped>\n",
       "    .dataframe tbody tr th:only-of-type {\n",
       "        vertical-align: middle;\n",
       "    }\n",
       "\n",
       "    .dataframe tbody tr th {\n",
       "        vertical-align: top;\n",
       "    }\n",
       "\n",
       "    .dataframe thead th {\n",
       "        text-align: right;\n",
       "    }\n",
       "</style>\n",
       "<table border=\"1\" class=\"dataframe\">\n",
       "  <thead>\n",
       "    <tr style=\"text-align: right;\">\n",
       "      <th></th>\n",
       "      <th>0</th>\n",
       "      <th>1</th>\n",
       "      <th>2</th>\n",
       "      <th>3</th>\n",
       "      <th>4</th>\n",
       "      <th>5</th>\n",
       "      <th>6</th>\n",
       "      <th>7</th>\n",
       "      <th>8</th>\n",
       "      <th>9</th>\n",
       "      <th>...</th>\n",
       "      <th>190</th>\n",
       "      <th>191</th>\n",
       "      <th>192</th>\n",
       "      <th>193</th>\n",
       "      <th>194</th>\n",
       "      <th>195</th>\n",
       "      <th>196</th>\n",
       "      <th>197</th>\n",
       "      <th>198</th>\n",
       "      <th>199</th>\n",
       "    </tr>\n",
       "  </thead>\n",
       "  <tbody>\n",
       "    <tr>\n",
       "      <th>0</th>\n",
       "      <td>61.204915</td>\n",
       "      <td>60.001655</td>\n",
       "      <td>58.767884</td>\n",
       "      <td>59.386217</td>\n",
       "      <td>57.042551</td>\n",
       "      <td>62.392690</td>\n",
       "      <td>58.732062</td>\n",
       "      <td>62.618375</td>\n",
       "      <td>59.190475</td>\n",
       "      <td>60.549121</td>\n",
       "      <td>...</td>\n",
       "      <td>61.926205</td>\n",
       "      <td>56.728811</td>\n",
       "      <td>55.690916</td>\n",
       "      <td>62.119866</td>\n",
       "      <td>61.207345</td>\n",
       "      <td>60.358510</td>\n",
       "      <td>55.331676</td>\n",
       "      <td>62.075891</td>\n",
       "      <td>57.263870</td>\n",
       "      <td>55.893088</td>\n",
       "    </tr>\n",
       "    <tr>\n",
       "      <th>1</th>\n",
       "      <td>49.028340</td>\n",
       "      <td>50.923110</td>\n",
       "      <td>51.311270</td>\n",
       "      <td>50.548781</td>\n",
       "      <td>49.234431</td>\n",
       "      <td>54.147435</td>\n",
       "      <td>48.755121</td>\n",
       "      <td>50.850568</td>\n",
       "      <td>48.677835</td>\n",
       "      <td>51.135987</td>\n",
       "      <td>...</td>\n",
       "      <td>50.893160</td>\n",
       "      <td>52.844065</td>\n",
       "      <td>50.172873</td>\n",
       "      <td>52.262556</td>\n",
       "      <td>52.955016</td>\n",
       "      <td>51.132810</td>\n",
       "      <td>48.723338</td>\n",
       "      <td>50.327604</td>\n",
       "      <td>47.890556</td>\n",
       "      <td>45.522511</td>\n",
       "    </tr>\n",
       "    <tr>\n",
       "      <th>2</th>\n",
       "      <td>55.228063</td>\n",
       "      <td>55.780176</td>\n",
       "      <td>55.365634</td>\n",
       "      <td>54.573325</td>\n",
       "      <td>54.395876</td>\n",
       "      <td>56.650404</td>\n",
       "      <td>55.549939</td>\n",
       "      <td>57.302721</td>\n",
       "      <td>56.167608</td>\n",
       "      <td>57.097771</td>\n",
       "      <td>...</td>\n",
       "      <td>54.216216</td>\n",
       "      <td>56.923456</td>\n",
       "      <td>56.603125</td>\n",
       "      <td>54.498523</td>\n",
       "      <td>51.663645</td>\n",
       "      <td>54.901655</td>\n",
       "      <td>53.241012</td>\n",
       "      <td>53.494101</td>\n",
       "      <td>54.359490</td>\n",
       "      <td>52.811328</td>\n",
       "    </tr>\n",
       "    <tr>\n",
       "      <th>3</th>\n",
       "      <td>62.786420</td>\n",
       "      <td>59.941466</td>\n",
       "      <td>58.864239</td>\n",
       "      <td>59.684981</td>\n",
       "      <td>57.154436</td>\n",
       "      <td>62.629718</td>\n",
       "      <td>59.185709</td>\n",
       "      <td>61.665962</td>\n",
       "      <td>60.224763</td>\n",
       "      <td>58.373115</td>\n",
       "      <td>...</td>\n",
       "      <td>57.701332</td>\n",
       "      <td>61.817263</td>\n",
       "      <td>61.676921</td>\n",
       "      <td>59.307393</td>\n",
       "      <td>56.996306</td>\n",
       "      <td>59.531800</td>\n",
       "      <td>62.080196</td>\n",
       "      <td>59.386064</td>\n",
       "      <td>60.233529</td>\n",
       "      <td>59.920333</td>\n",
       "    </tr>\n",
       "  </tbody>\n",
       "</table>\n",
       "<p>4 rows × 200 columns</p>\n",
       "</div>"
      ],
      "text/plain": [
       "         0          1          2          3          4          5    \\\n",
       "0  61.204915  60.001655  58.767884  59.386217  57.042551  62.392690   \n",
       "1  49.028340  50.923110  51.311270  50.548781  49.234431  54.147435   \n",
       "2  55.228063  55.780176  55.365634  54.573325  54.395876  56.650404   \n",
       "3  62.786420  59.941466  58.864239  59.684981  57.154436  62.629718   \n",
       "\n",
       "         6          7          8          9    ...        190        191  \\\n",
       "0  58.732062  62.618375  59.190475  60.549121  ...  61.926205  56.728811   \n",
       "1  48.755121  50.850568  48.677835  51.135987  ...  50.893160  52.844065   \n",
       "2  55.549939  57.302721  56.167608  57.097771  ...  54.216216  56.923456   \n",
       "3  59.185709  61.665962  60.224763  58.373115  ...  57.701332  61.817263   \n",
       "\n",
       "         192        193        194        195        196        197  \\\n",
       "0  55.690916  62.119866  61.207345  60.358510  55.331676  62.075891   \n",
       "1  50.172873  52.262556  52.955016  51.132810  48.723338  50.327604   \n",
       "2  56.603125  54.498523  51.663645  54.901655  53.241012  53.494101   \n",
       "3  61.676921  59.307393  56.996306  59.531800  62.080196  59.386064   \n",
       "\n",
       "         198        199  \n",
       "0  57.263870  55.893088  \n",
       "1  47.890556  45.522511  \n",
       "2  54.359490  52.811328  \n",
       "3  60.233529  59.920333  \n",
       "\n",
       "[4 rows x 200 columns]"
      ]
     },
     "execution_count": 179,
     "metadata": {},
     "output_type": "execute_result"
    }
   ],
   "source": [
    "df"
   ]
  },
  {
   "cell_type": "code",
   "execution_count": 180,
   "metadata": {},
   "outputs": [],
   "source": [
    "mean = df.mean(axis=1)\n",
    "variance = df.var(axis=1)"
   ]
  },
  {
   "cell_type": "code",
   "execution_count": 181,
   "metadata": {},
   "outputs": [
    {
     "data": {
      "text/plain": [
       "0    58.710804\n",
       "1    50.093852\n",
       "2    54.998854\n",
       "3    59.906225\n",
       "dtype: float64"
      ]
     },
     "execution_count": 181,
     "metadata": {},
     "output_type": "execute_result"
    }
   ],
   "source": [
    "mean"
   ]
  },
  {
   "cell_type": "code",
   "execution_count": 182,
   "metadata": {},
   "outputs": [
    {
     "data": {
      "text/plain": [
       "0    5.074304\n",
       "1    4.436445\n",
       "2    1.974906\n",
       "3    2.952060\n",
       "dtype: float64"
      ]
     },
     "execution_count": 182,
     "metadata": {},
     "output_type": "execute_result"
    }
   ],
   "source": [
    "variance"
   ]
  },
  {
   "cell_type": "markdown",
   "metadata": {},
   "source": [
    "## Questão B"
   ]
  },
  {
   "cell_type": "code",
   "execution_count": 183,
   "metadata": {},
   "outputs": [],
   "source": [
    "p = [df.iloc[0], df.iloc[1], df.iloc[2], df.iloc[3]]"
   ]
  },
  {
   "cell_type": "code",
   "execution_count": 184,
   "metadata": {},
   "outputs": [
    {
     "data": {
      "text/plain": [
       "<AxesSubplot:xlabel='0', ylabel='Count'>"
      ]
     },
     "execution_count": 184,
     "metadata": {},
     "output_type": "execute_result"
    },
    {
     "data": {
      "image/png": "[encoded data removed]",
      "text/plain": [
       "<Figure size 432x288 with 1 Axes>"
      ]
     },
     "metadata": {
      "needs_background": "light"
     },
     "output_type": "display_data"
    }
   ],
   "source": [
    "sns.histplot(data=p[0])"
   ]
  },
  {
   "cell_type": "code",
   "execution_count": 185,
   "metadata": {},
   "outputs": [
    {
     "data": {
      "text/html": [
       "<div>\n",
       "<style scoped>\n",
       "    .dataframe tbody tr th:only-of-type {\n",
       "        vertical-align: middle;\n",
       "    }\n",
       "\n",
       "    .dataframe tbody tr th {\n",
       "        vertical-align: top;\n",
       "    }\n",
       "\n",
       "    .dataframe thead th {\n",
       "        text-align: right;\n",
       "    }\n",
       "</style>\n",
       "<table border=\"1\" class=\"dataframe\">\n",
       "  <thead>\n",
       "    <tr style=\"text-align: right;\">\n",
       "      <th></th>\n",
       "      <th>0</th>\n",
       "      <th>1</th>\n",
       "      <th>2</th>\n",
       "      <th>3</th>\n",
       "      <th>4</th>\n",
       "      <th>5</th>\n",
       "      <th>6</th>\n",
       "      <th>7</th>\n",
       "      <th>8</th>\n",
       "      <th>9</th>\n",
       "      <th>...</th>\n",
       "      <th>190</th>\n",
       "      <th>191</th>\n",
       "      <th>192</th>\n",
       "      <th>193</th>\n",
       "      <th>194</th>\n",
       "      <th>195</th>\n",
       "      <th>196</th>\n",
       "      <th>197</th>\n",
       "      <th>198</th>\n",
       "      <th>199</th>\n",
       "    </tr>\n",
       "  </thead>\n",
       "  <tbody>\n",
       "    <tr>\n",
       "      <th>0</th>\n",
       "      <td>61.204915</td>\n",
       "      <td>60.001655</td>\n",
       "      <td>58.767884</td>\n",
       "      <td>59.386217</td>\n",
       "      <td>57.042551</td>\n",
       "      <td>62.392690</td>\n",
       "      <td>58.732062</td>\n",
       "      <td>62.618375</td>\n",
       "      <td>59.190475</td>\n",
       "      <td>60.549121</td>\n",
       "      <td>...</td>\n",
       "      <td>61.926205</td>\n",
       "      <td>56.728811</td>\n",
       "      <td>55.690916</td>\n",
       "      <td>62.119866</td>\n",
       "      <td>61.207345</td>\n",
       "      <td>60.358510</td>\n",
       "      <td>55.331676</td>\n",
       "      <td>62.075891</td>\n",
       "      <td>57.263870</td>\n",
       "      <td>55.893088</td>\n",
       "    </tr>\n",
       "    <tr>\n",
       "      <th>1</th>\n",
       "      <td>49.028340</td>\n",
       "      <td>50.923110</td>\n",
       "      <td>51.311270</td>\n",
       "      <td>50.548781</td>\n",
       "      <td>49.234431</td>\n",
       "      <td>54.147435</td>\n",
       "      <td>48.755121</td>\n",
       "      <td>50.850568</td>\n",
       "      <td>48.677835</td>\n",
       "      <td>51.135987</td>\n",
       "      <td>...</td>\n",
       "      <td>50.893160</td>\n",
       "      <td>52.844065</td>\n",
       "      <td>50.172873</td>\n",
       "      <td>52.262556</td>\n",
       "      <td>52.955016</td>\n",
       "      <td>51.132810</td>\n",
       "      <td>48.723338</td>\n",
       "      <td>50.327604</td>\n",
       "      <td>47.890556</td>\n",
       "      <td>45.522511</td>\n",
       "    </tr>\n",
       "    <tr>\n",
       "      <th>2</th>\n",
       "      <td>55.228063</td>\n",
       "      <td>55.780176</td>\n",
       "      <td>55.365634</td>\n",
       "      <td>54.573325</td>\n",
       "      <td>54.395876</td>\n",
       "      <td>56.650404</td>\n",
       "      <td>55.549939</td>\n",
       "      <td>57.302721</td>\n",
       "      <td>56.167608</td>\n",
       "      <td>57.097771</td>\n",
       "      <td>...</td>\n",
       "      <td>54.216216</td>\n",
       "      <td>56.923456</td>\n",
       "      <td>56.603125</td>\n",
       "      <td>54.498523</td>\n",
       "      <td>51.663645</td>\n",
       "      <td>54.901655</td>\n",
       "      <td>53.241012</td>\n",
       "      <td>53.494101</td>\n",
       "      <td>54.359490</td>\n",
       "      <td>52.811328</td>\n",
       "    </tr>\n",
       "    <tr>\n",
       "      <th>3</th>\n",
       "      <td>62.786420</td>\n",
       "      <td>59.941466</td>\n",
       "      <td>58.864239</td>\n",
       "      <td>59.684981</td>\n",
       "      <td>57.154436</td>\n",
       "      <td>62.629718</td>\n",
       "      <td>59.185709</td>\n",
       "      <td>61.665962</td>\n",
       "      <td>60.224763</td>\n",
       "      <td>58.373115</td>\n",
       "      <td>...</td>\n",
       "      <td>57.701332</td>\n",
       "      <td>61.817263</td>\n",
       "      <td>61.676921</td>\n",
       "      <td>59.307393</td>\n",
       "      <td>56.996306</td>\n",
       "      <td>59.531800</td>\n",
       "      <td>62.080196</td>\n",
       "      <td>59.386064</td>\n",
       "      <td>60.233529</td>\n",
       "      <td>59.920333</td>\n",
       "    </tr>\n",
       "  </tbody>\n",
       "</table>\n",
       "<p>4 rows × 200 columns</p>\n",
       "</div>"
      ],
      "text/plain": [
       "         0          1          2          3          4          5    \\\n",
       "0  61.204915  60.001655  58.767884  59.386217  57.042551  62.392690   \n",
       "1  49.028340  50.923110  51.311270  50.548781  49.234431  54.147435   \n",
       "2  55.228063  55.780176  55.365634  54.573325  54.395876  56.650404   \n",
       "3  62.786420  59.941466  58.864239  59.684981  57.154436  62.629718   \n",
       "\n",
       "         6          7          8          9    ...        190        191  \\\n",
       "0  58.732062  62.618375  59.190475  60.549121  ...  61.926205  56.728811   \n",
       "1  48.755121  50.850568  48.677835  51.135987  ...  50.893160  52.844065   \n",
       "2  55.549939  57.302721  56.167608  57.097771  ...  54.216216  56.923456   \n",
       "3  59.185709  61.665962  60.224763  58.373115  ...  57.701332  61.817263   \n",
       "\n",
       "         192        193        194        195        196        197  \\\n",
       "0  55.690916  62.119866  61.207345  60.358510  55.331676  62.075891   \n",
       "1  50.172873  52.262556  52.955016  51.132810  48.723338  50.327604   \n",
       "2  56.603125  54.498523  51.663645  54.901655  53.241012  53.494101   \n",
       "3  61.676921  59.307393  56.996306  59.531800  62.080196  59.386064   \n",
       "\n",
       "         198        199  \n",
       "0  57.263870  55.893088  \n",
       "1  47.890556  45.522511  \n",
       "2  54.359490  52.811328  \n",
       "3  60.233529  59.920333  \n",
       "\n",
       "[4 rows x 200 columns]"
      ]
     },
     "execution_count": 185,
     "metadata": {},
     "output_type": "execute_result"
    }
   ],
   "source": [
    "df"
   ]
  },
  {
   "cell_type": "code",
   "execution_count": 186,
   "metadata": {},
   "outputs": [
    {
     "data": {
      "image/png": "[encoded data removed]",
      "text/plain": [
       "<Figure size 432x288 with 1 Axes>"
      ]
     },
     "metadata": {
      "needs_background": "light"
     },
     "output_type": "display_data"
    }
   ],
   "source": [
    "for row in p:\n",
    "    sns.histplot(data=row, )"
   ]
  },
  {
   "cell_type": "code",
   "execution_count": 187,
   "metadata": {},
   "outputs": [
    {
     "name": "stdout",
     "output_type": "stream",
     "text": [
      "stats: 0.9914840459823608 | pvalue: 0.2908915579319\n",
      "stats: 0.9959108233451843 | pvalue: 0.8722559213638306\n",
      "stats: 0.9926682114601135 | pvalue: 0.41828590631484985\n",
      "stats: 0.989329993724823 | pvalue: 0.1423971801996231\n"
     ]
    }
   ],
   "source": [
    "shapiro = [\n",
    "    scipy.stats.shapiro(dado) for dado in dados]\n",
    "\n",
    "for response in shapiro:\n",
    "    print(f'stats: {response.statistic} |' + \\\n",
    "        f' pvalue: {response.pvalue}')"
   ]
  },
  {
   "cell_type": "markdown",
   "metadata": {},
   "source": [
    "O teste e shapiro-Wilk assume que a distribuição dos dados é normal. Os dados retornados pelo teste são:\n",
    "confiabilidade (stats) e probabilidade de ser normal (p-value). O valor de p é maior que 0.05, logo, os dados podem ser tratados como uma distribuição normal. (Não se deve rejeitar a hipótese nula)."
   ]
  },
  {
   "cell_type": "markdown",
   "metadata": {},
   "source": [
    "## Questão C"
   ]
  },
  {
   "cell_type": "code",
   "execution_count": 188,
   "metadata": {},
   "outputs": [
    {
     "data": {
      "image/png": "[encoded data removed]",
      "text/plain": [
       "<Figure size 432x288 with 1 Axes>"
      ]
     },
     "metadata": {
      "needs_background": "light"
     },
     "output_type": "display_data"
    },
    {
     "data": {
      "image/png": "[encoded data removed]",
      "text/plain": [
       "<Figure size 432x288 with 1 Axes>"
      ]
     },
     "metadata": {
      "needs_background": "light"
     },
     "output_type": "display_data"
    },
    {
     "data": {
      "image/png": "[encoded data removed]",
      "text/plain": [
       "<Figure size 432x288 with 1 Axes>"
      ]
     },
     "metadata": {
      "needs_background": "light"
     },
     "output_type": "display_data"
    },
    {
     "data": {
      "image/png": "[encoded data removed]",
      "text/plain": [
       "<Figure size 432x288 with 1 Axes>"
      ]
     },
     "metadata": {
      "needs_background": "light"
     },
     "output_type": "display_data"
    }
   ],
   "source": [
    "values = [56, 52, 54, 61]\n",
    "for index, row in enumerate(p):\n",
    "    plt.figure()\n",
    "    sns.histplot(data=row )\n",
    "    plt.axvline(values[index], color='red')\n"
   ]
  },
  {
   "cell_type": "code",
   "execution_count": 189,
   "metadata": {},
   "outputs": [],
   "source": [
    "def calcula_distribuicao_normal(df):\n",
    "    media = df.mean()\n",
    "    desvio_padrao = df.std()\n",
    "    return scipy.stats.norm(media, desvio_padrao)\n"
   ]
  },
  {
   "cell_type": "code",
   "execution_count": 190,
   "metadata": {},
   "outputs": [
    {
     "data": {
      "text/plain": [
       "0      61.204915\n",
       "1      60.001655\n",
       "2      58.767884\n",
       "3      59.386217\n",
       "4      57.042551\n",
       "         ...    \n",
       "195    60.358510\n",
       "196    55.331676\n",
       "197    62.075891\n",
       "198    57.263870\n",
       "199    55.893088\n",
       "Name: 0, Length: 200, dtype: float64"
      ]
     },
     "execution_count": 190,
     "metadata": {},
     "output_type": "execute_result"
    }
   ],
   "source": [
    "df.iloc[0]"
   ]
  },
  {
   "cell_type": "code",
   "execution_count": 191,
   "metadata": {},
   "outputs": [
    {
     "data": {
      "text/html": [
       "<div>\n",
       "<style scoped>\n",
       "    .dataframe tbody tr th:only-of-type {\n",
       "        vertical-align: middle;\n",
       "    }\n",
       "\n",
       "    .dataframe tbody tr th {\n",
       "        vertical-align: top;\n",
       "    }\n",
       "\n",
       "    .dataframe thead th {\n",
       "        text-align: right;\n",
       "    }\n",
       "</style>\n",
       "<table border=\"1\" class=\"dataframe\">\n",
       "  <thead>\n",
       "    <tr style=\"text-align: right;\">\n",
       "      <th></th>\n",
       "      <th>0</th>\n",
       "      <th>1</th>\n",
       "      <th>2</th>\n",
       "      <th>3</th>\n",
       "      <th>4</th>\n",
       "      <th>5</th>\n",
       "      <th>6</th>\n",
       "      <th>7</th>\n",
       "      <th>8</th>\n",
       "      <th>9</th>\n",
       "      <th>...</th>\n",
       "      <th>190</th>\n",
       "      <th>191</th>\n",
       "      <th>192</th>\n",
       "      <th>193</th>\n",
       "      <th>194</th>\n",
       "      <th>195</th>\n",
       "      <th>196</th>\n",
       "      <th>197</th>\n",
       "      <th>198</th>\n",
       "      <th>199</th>\n",
       "    </tr>\n",
       "  </thead>\n",
       "  <tbody>\n",
       "    <tr>\n",
       "      <th>0</th>\n",
       "      <td>61.204915</td>\n",
       "      <td>60.001655</td>\n",
       "      <td>58.767884</td>\n",
       "      <td>59.386217</td>\n",
       "      <td>57.042551</td>\n",
       "      <td>62.392690</td>\n",
       "      <td>58.732062</td>\n",
       "      <td>62.618375</td>\n",
       "      <td>59.190475</td>\n",
       "      <td>60.549121</td>\n",
       "      <td>...</td>\n",
       "      <td>61.926205</td>\n",
       "      <td>56.728811</td>\n",
       "      <td>55.690916</td>\n",
       "      <td>62.119866</td>\n",
       "      <td>61.207345</td>\n",
       "      <td>60.358510</td>\n",
       "      <td>55.331676</td>\n",
       "      <td>62.075891</td>\n",
       "      <td>57.263870</td>\n",
       "      <td>55.893088</td>\n",
       "    </tr>\n",
       "    <tr>\n",
       "      <th>1</th>\n",
       "      <td>49.028340</td>\n",
       "      <td>50.923110</td>\n",
       "      <td>51.311270</td>\n",
       "      <td>50.548781</td>\n",
       "      <td>49.234431</td>\n",
       "      <td>54.147435</td>\n",
       "      <td>48.755121</td>\n",
       "      <td>50.850568</td>\n",
       "      <td>48.677835</td>\n",
       "      <td>51.135987</td>\n",
       "      <td>...</td>\n",
       "      <td>50.893160</td>\n",
       "      <td>52.844065</td>\n",
       "      <td>50.172873</td>\n",
       "      <td>52.262556</td>\n",
       "      <td>52.955016</td>\n",
       "      <td>51.132810</td>\n",
       "      <td>48.723338</td>\n",
       "      <td>50.327604</td>\n",
       "      <td>47.890556</td>\n",
       "      <td>45.522511</td>\n",
       "    </tr>\n",
       "    <tr>\n",
       "      <th>2</th>\n",
       "      <td>55.228063</td>\n",
       "      <td>55.780176</td>\n",
       "      <td>55.365634</td>\n",
       "      <td>54.573325</td>\n",
       "      <td>54.395876</td>\n",
       "      <td>56.650404</td>\n",
       "      <td>55.549939</td>\n",
       "      <td>57.302721</td>\n",
       "      <td>56.167608</td>\n",
       "      <td>57.097771</td>\n",
       "      <td>...</td>\n",
       "      <td>54.216216</td>\n",
       "      <td>56.923456</td>\n",
       "      <td>56.603125</td>\n",
       "      <td>54.498523</td>\n",
       "      <td>51.663645</td>\n",
       "      <td>54.901655</td>\n",
       "      <td>53.241012</td>\n",
       "      <td>53.494101</td>\n",
       "      <td>54.359490</td>\n",
       "      <td>52.811328</td>\n",
       "    </tr>\n",
       "    <tr>\n",
       "      <th>3</th>\n",
       "      <td>62.786420</td>\n",
       "      <td>59.941466</td>\n",
       "      <td>58.864239</td>\n",
       "      <td>59.684981</td>\n",
       "      <td>57.154436</td>\n",
       "      <td>62.629718</td>\n",
       "      <td>59.185709</td>\n",
       "      <td>61.665962</td>\n",
       "      <td>60.224763</td>\n",
       "      <td>58.373115</td>\n",
       "      <td>...</td>\n",
       "      <td>57.701332</td>\n",
       "      <td>61.817263</td>\n",
       "      <td>61.676921</td>\n",
       "      <td>59.307393</td>\n",
       "      <td>56.996306</td>\n",
       "      <td>59.531800</td>\n",
       "      <td>62.080196</td>\n",
       "      <td>59.386064</td>\n",
       "      <td>60.233529</td>\n",
       "      <td>59.920333</td>\n",
       "    </tr>\n",
       "  </tbody>\n",
       "</table>\n",
       "<p>4 rows × 200 columns</p>\n",
       "</div>"
      ],
      "text/plain": [
       "         0          1          2          3          4          5    \\\n",
       "0  61.204915  60.001655  58.767884  59.386217  57.042551  62.392690   \n",
       "1  49.028340  50.923110  51.311270  50.548781  49.234431  54.147435   \n",
       "2  55.228063  55.780176  55.365634  54.573325  54.395876  56.650404   \n",
       "3  62.786420  59.941466  58.864239  59.684981  57.154436  62.629718   \n",
       "\n",
       "         6          7          8          9    ...        190        191  \\\n",
       "0  58.732062  62.618375  59.190475  60.549121  ...  61.926205  56.728811   \n",
       "1  48.755121  50.850568  48.677835  51.135987  ...  50.893160  52.844065   \n",
       "2  55.549939  57.302721  56.167608  57.097771  ...  54.216216  56.923456   \n",
       "3  59.185709  61.665962  60.224763  58.373115  ...  57.701332  61.817263   \n",
       "\n",
       "         192        193        194        195        196        197  \\\n",
       "0  55.690916  62.119866  61.207345  60.358510  55.331676  62.075891   \n",
       "1  50.172873  52.262556  52.955016  51.132810  48.723338  50.327604   \n",
       "2  56.603125  54.498523  51.663645  54.901655  53.241012  53.494101   \n",
       "3  61.676921  59.307393  56.996306  59.531800  62.080196  59.386064   \n",
       "\n",
       "         198        199  \n",
       "0  57.263870  55.893088  \n",
       "1  47.890556  45.522511  \n",
       "2  54.359490  52.811328  \n",
       "3  60.233529  59.920333  \n",
       "\n",
       "[4 rows x 200 columns]"
      ]
     },
     "execution_count": 191,
     "metadata": {},
     "output_type": "execute_result"
    }
   ],
   "source": [
    "df[0]\n",
    "df"
   ]
  },
  {
   "cell_type": "code",
   "execution_count": 192,
   "metadata": {},
   "outputs": [
    {
     "name": "stdout",
     "output_type": "stream",
     "text": [
      "56: 27.46%\n",
      "52: 66.39%\n",
      "54: 41.20%\n",
      "61: 59.62%\n"
     ]
    }
   ],
   "source": [
    "for index, value in enumerate([56, 52, 54, 61]):\n",
    "  probabilidade_cumulada = \\\n",
    "    scipy.stats.norm.cdf(\n",
    "      x=value,\n",
    "      loc=df.iloc[index].mean(),\n",
    "      scale=df.std(),\n",
    "    ).mean()\n",
    "  print(f'{value}: {probabilidade_cumulada*100:.2f}%')"
   ]
  },
  {
   "cell_type": "code",
   "execution_count": 193,
   "metadata": {},
   "outputs": [
    {
     "data": {
      "text/plain": [
       "array([[ 5.0743038 ,  1.23241238,  0.04781499, -0.34548987],\n",
       "       [ 1.23241238,  4.43644463, -0.13245898,  0.02329615],\n",
       "       [ 0.04781499, -0.13245898,  1.97490562,  0.83190665],\n",
       "       [-0.34548987,  0.02329615,  0.83190665,  2.95205989]])"
      ]
     },
     "execution_count": 193,
     "metadata": {},
     "output_type": "execute_result"
    }
   ],
   "source": [
    "np.cov(df) # matriz de covariância"
   ]
  },
  {
   "cell_type": "code",
   "execution_count": 194,
   "metadata": {},
   "outputs": [],
   "source": [
    "# scipy.stats.multivariate_normal.cdf(\n",
    "#   x=56,\n",
    "#   cov=np.cov(df),\n",
    "# )"
   ]
  },
  {
   "cell_type": "markdown",
   "metadata": {},
   "source": [
    "---\n",
    "# <center> Atividade 2: Inferência e Testes Diagnósticos\n",
    "\n",
    "O arquivo “Atividade 2” da Aula 06 (ver Moodle) contém uma matriz “dados” obtida de\n",
    "19476 homens com mais de 50 anos e que foram submetidos a testes de câncer de\n",
    "próstata. Coluna 1: resultado do teste PSA (1 = positivo para a doença, 0 = negativo para a\n",
    "doença); Coluna 2: resultado do teste de toque retal DRE (1 = positivo para a doença, 0 =\n",
    "negativo para doença); Coluna 3 = resultado da biópsia (1 = paciente com a doença, 0 =\n",
    "paciente sem a doença). Estes dados podem ser utilizados para avaliar o potencial clínico\n",
    "de tais testes na população alvo."
   ]
  },
  {
   "cell_type": "code",
   "execution_count": 195,
   "metadata": {},
   "outputs": [],
   "source": [
    "data = loadmat('../data/pratica_1/Atividade 2.mat').get('dados')"
   ]
  },
  {
   "cell_type": "code",
   "execution_count": 196,
   "metadata": {},
   "outputs": [
    {
     "data": {
      "text/plain": [
       "array([[0, 0, 0],\n",
       "       [0, 0, 0],\n",
       "       [0, 0, 0],\n",
       "       ...,\n",
       "       [0, 1, 0],\n",
       "       [0, 1, 0],\n",
       "       [0, 0, 0]], dtype=uint8)"
      ]
     },
     "execution_count": 196,
     "metadata": {},
     "output_type": "execute_result"
    }
   ],
   "source": [
    "data"
   ]
  },
  {
   "cell_type": "code",
   "execution_count": 197,
   "metadata": {},
   "outputs": [
    {
     "data": {
      "text/html": [
       "<div>\n",
       "<style scoped>\n",
       "    .dataframe tbody tr th:only-of-type {\n",
       "        vertical-align: middle;\n",
       "    }\n",
       "\n",
       "    .dataframe tbody tr th {\n",
       "        vertical-align: top;\n",
       "    }\n",
       "\n",
       "    .dataframe thead th {\n",
       "        text-align: right;\n",
       "    }\n",
       "</style>\n",
       "<table border=\"1\" class=\"dataframe\">\n",
       "  <thead>\n",
       "    <tr style=\"text-align: right;\">\n",
       "      <th></th>\n",
       "      <th>PSA</th>\n",
       "      <th>DRE</th>\n",
       "      <th>Biópsia</th>\n",
       "    </tr>\n",
       "  </thead>\n",
       "  <tbody>\n",
       "    <tr>\n",
       "      <th>0</th>\n",
       "      <td>0</td>\n",
       "      <td>0</td>\n",
       "      <td>0</td>\n",
       "    </tr>\n",
       "    <tr>\n",
       "      <th>1</th>\n",
       "      <td>0</td>\n",
       "      <td>0</td>\n",
       "      <td>0</td>\n",
       "    </tr>\n",
       "    <tr>\n",
       "      <th>2</th>\n",
       "      <td>0</td>\n",
       "      <td>0</td>\n",
       "      <td>0</td>\n",
       "    </tr>\n",
       "    <tr>\n",
       "      <th>3</th>\n",
       "      <td>0</td>\n",
       "      <td>0</td>\n",
       "      <td>0</td>\n",
       "    </tr>\n",
       "    <tr>\n",
       "      <th>4</th>\n",
       "      <td>0</td>\n",
       "      <td>0</td>\n",
       "      <td>0</td>\n",
       "    </tr>\n",
       "    <tr>\n",
       "      <th>...</th>\n",
       "      <td>...</td>\n",
       "      <td>...</td>\n",
       "      <td>...</td>\n",
       "    </tr>\n",
       "    <tr>\n",
       "      <th>19471</th>\n",
       "      <td>0</td>\n",
       "      <td>0</td>\n",
       "      <td>0</td>\n",
       "    </tr>\n",
       "    <tr>\n",
       "      <th>19472</th>\n",
       "      <td>0</td>\n",
       "      <td>0</td>\n",
       "      <td>0</td>\n",
       "    </tr>\n",
       "    <tr>\n",
       "      <th>19473</th>\n",
       "      <td>0</td>\n",
       "      <td>1</td>\n",
       "      <td>0</td>\n",
       "    </tr>\n",
       "    <tr>\n",
       "      <th>19474</th>\n",
       "      <td>0</td>\n",
       "      <td>1</td>\n",
       "      <td>0</td>\n",
       "    </tr>\n",
       "    <tr>\n",
       "      <th>19475</th>\n",
       "      <td>0</td>\n",
       "      <td>0</td>\n",
       "      <td>0</td>\n",
       "    </tr>\n",
       "  </tbody>\n",
       "</table>\n",
       "<p>19476 rows × 3 columns</p>\n",
       "</div>"
      ],
      "text/plain": [
       "       PSA  DRE  Biópsia\n",
       "0        0    0        0\n",
       "1        0    0        0\n",
       "2        0    0        0\n",
       "3        0    0        0\n",
       "4        0    0        0\n",
       "...    ...  ...      ...\n",
       "19471    0    0        0\n",
       "19472    0    0        0\n",
       "19473    0    1        0\n",
       "19474    0    1        0\n",
       "19475    0    0        0\n",
       "\n",
       "[19476 rows x 3 columns]"
      ]
     },
     "execution_count": 197,
     "metadata": {},
     "output_type": "execute_result"
    }
   ],
   "source": [
    "df_data = pd.DataFrame(data, columns=['PSA', 'DRE', 'Biópsia'])\n",
    "df_data"
   ]
  },
  {
   "cell_type": "markdown",
   "metadata": {},
   "source": [
    "## A. Estime a sensibilidade de ambos os testes, PSA e DRE."
   ]
  },
  {
   "cell_type": "markdown",
   "metadata": {},
   "source": [
    "### Análise da questão A\n",
    "- Sensibilidade P(T = + | D = +)\n",
    "- Probabilidade do teste ser positivo dado que tem a doença\n",
    "- Probabilidade = Nº de casos positivos do teste (DRE OU PSA) / Total de resultados positivos da biopsia\n",
    "- A biopsia é o teste de referência (D = +)\n",
    "- P(T = + | D = +) = P(T = + , D = +) / P(D = +)"
   ]
  },
  {
   "cell_type": "code",
   "execution_count": 198,
   "metadata": {},
   "outputs": [],
   "source": [
    "total_biopsia_positiva = df_data[df_data['Biópsia'] == 1].shape[0]"
   ]
  },
  {
   "cell_type": "code",
   "execution_count": 199,
   "metadata": {},
   "outputs": [],
   "source": [
    "casos_positivos_psa_e_biopsia = df_data[\n",
    "  (df_data['PSA'] == 1) & (df_data['Biópsia'] == 1)].shape[0]\n",
    "casos_positivos_dre_e_biopsia = df_data[\n",
    "  (df_data['DRE'] == 1) & (df_data['Biópsia'] == 1)].shape[0]"
   ]
  },
  {
   "cell_type": "code",
   "execution_count": 200,
   "metadata": {},
   "outputs": [
    {
     "name": "stdout",
     "output_type": "stream",
     "text": [
      "Sensibilidade PSA: 25.57% | Sensibilidade DRE: 17.76%\n"
     ]
    }
   ],
   "source": [
    "sensibilidade_psa = casos_positivos_psa_e_biopsia / total_biopsia_positiva\n",
    "sensibilidade_dre = casos_positivos_dre_e_biopsia / total_biopsia_positiva\n",
    "print(f'Sensibilidade PSA: {sensibilidade_psa*100:.2f}%' + \\\n",
    "      f' | Sensibilidade DRE: {sensibilidade_dre*100:.2f}%')"
   ]
  },
  {
   "cell_type": "markdown",
   "metadata": {},
   "source": [
    "## B. Estime a especificidade de ambos os testes, PSA e DRE."
   ]
  },
  {
   "cell_type": "markdown",
   "metadata": {},
   "source": [
    "### Análise da questão B\n",
    "- Especificidade P(T = - | D = -)\n",
    "- Probabilidade do teste dar negativo dado que não tem a doença\n",
    "- Probabilidade = Nº de casos negativos do teste (DRE OU PSA) / Total de resultados negativos da biopsia\n",
    "- P(T = - | D = -) = P(T = - , D = -) / P(D = -)"
   ]
  },
  {
   "cell_type": "code",
   "execution_count": 201,
   "metadata": {},
   "outputs": [],
   "source": [
    "total_biopsia_negativa = df_data[df_data['Biópsia'] == 0].shape[0]"
   ]
  },
  {
   "cell_type": "code",
   "execution_count": 202,
   "metadata": {},
   "outputs": [],
   "source": [
    "casos_negativos_psa_e_biopsia = df_data[\n",
    "  (df_data['PSA'] == 0) & (df_data['Biópsia'] == 0)].shape[0]\n",
    "casos_negativos_dre_e_biopsia = df_data[\n",
    "  (df_data['DRE'] == 0) & (df_data['Biópsia'] == 0)].shape[0]"
   ]
  },
  {
   "cell_type": "code",
   "execution_count": 203,
   "metadata": {},
   "outputs": [
    {
     "name": "stdout",
     "output_type": "stream",
     "text": [
      "Sensibilidade PSA: 94.91% | Sensibilidade DRE: 93.50%\n"
     ]
    }
   ],
   "source": [
    "especificidade_psa = casos_negativos_psa_e_biopsia / total_biopsia_negativa\n",
    "especificidade_dre = casos_negativos_dre_e_biopsia / total_biopsia_negativa\n",
    "print(f'Sensibilidade PSA: {especificidade_psa*100:.2f}%' + \\\n",
    "      f' | Sensibilidade DRE: {especificidade_dre*100:.2f}%')"
   ]
  },
  {
   "cell_type": "markdown",
   "metadata": {},
   "source": [
    "## C. Suponha que dados do ministério da saúde indiquem como sendo de 4,2% a prevalência do câncer de próstata em homens com mais de 50 anos. O PSA é medido em um determinado paciente de sexo masculino com mais de 50 anos: se o teste for positivo, qual a probabilidade do paciente estar doente? Repita a mesma análise para o DRE."
   ]
  },
  {
   "cell_type": "markdown",
   "metadata": {},
   "source": [
    "### Análise da questão C\n",
    "- Homens com mais de 50 anos tem 4.2% de chance de ter câncer de próstata\n",
    "- Se o teste é positivo, a probabilidade do paciente será calculada como:\n",
    "- Probabilidade de estar doente = Probabilidade do teste ser positivo dado que tem a doença * Probabilidade de ter a doença / Probabilidade do teste ser positivo\n",
    "<div> P(D = + | T = +) = P(T = + | D = +) * P(D = +) / P(T = +)\n",
    "<div> P(D = + | T = +) = sensibilidade * P(D = +) / P(T = +)\n",
    "<div> P(T = +) = P(T = + | D = +) * P(D = +) + P(T = + | D = -) * P(D = -)\n",
    "<div> P(T = +) = sensibilidade * P(D = +) + (1 - especificidade) * (1 - P(D = +))\n",
    "<div> P(D = + | T = +) = (sensibilidade * P(D = +)) / (sensibilidade * P(D = +) + (1 - especificidade) * (1 - P(D = +)))\n",
    "<div> Como P(D = +) = 0.042:\n",
    "<div> P(D = + | T = +) + (sensibilidade * 0,042) / (sensibilidade * 0,042 + (1 - especificidade) * (1 - 0,042))\n",
    "<div> P(D = + | T = +) = (sensibilidade * 0,042) / (sensibilidade * 0,042 + (1 - especificidade) * 0,958)\n"
   ]
  },
  {
   "cell_type": "code",
   "execution_count": 204,
   "metadata": {},
   "outputs": [
    {
     "name": "stdout",
     "output_type": "stream",
     "text": [
      "Probabilidade de estar doente se o teste PSA for positivo: 18.04% \n",
      "Probabilidade de estar doente se o teste DRE for positivo: 10.70%\n"
     ]
    }
   ],
   "source": [
    "prob_estar_doente_psa = \\\n",
    "  (sensibilidade_psa * 0.042) / (sensibilidade_psa * 0.042 + (1-especificidade_psa) * (1-0.042))\n",
    "prob_estar_doente_dre = \\\n",
    "  (sensibilidade_dre * 0.042) / (sensibilidade_dre * 0.042 + (1-especificidade_dre) * (1-0.042))\n",
    "\n",
    "print(f'Probabilidade de estar doente se o teste PSA for positivo: {prob_estar_doente_psa*100:.2f}% \\n' + \\\n",
    "      f'Probabilidade de estar doente se o teste DRE for positivo: {prob_estar_doente_dre*100:.2f}%')"
   ]
  },
  {
   "cell_type": "markdown",
   "metadata": {},
   "source": [
    "## D. Analise agora a combinação dos dois testes diagnósticos: qual a probabilidade de câncer se pelo menos um dos testes for positivo? E se ambos os testes forem positivos?"
   ]
  },
  {
   "cell_type": "markdown",
   "metadata": {},
   "source": [
    "### Análise da questão D\n",
    "- Se pelo menos um dos testes for positivo, a probabilidade de câncer será calculada como:\n",
    "\n",
    "<div><center> P(T = +) = P(PSA = +) + P(DRE = +) </div>\n",
    "\n",
    "- Se ambos precisarem ser positivos, a probabilidade de câncer será calculada como:\n",
    "<div><center> P(T = +) = P(PSA = +) * P(DRE = +) </div>"
   ]
  },
  {
   "cell_type": "markdown",
   "metadata": {},
   "source": [
    "- P(D = + | DRE = +, PSA = +)\n",
    "- P(T = + | DRE = +, PSA = +)*P(D = +| DRE = +, PSA = +) / P(T = + | DRE = +, PSA = +)\n"
   ]
  },
  {
   "cell_type": "markdown",
   "metadata": {},
   "source": [
    "P(T = + | DRE = +, PSA = +) = P(T= + | DRE = +) * P(T = + | PSA = +)"
   ]
  },
  {
   "cell_type": "code",
   "execution_count": 205,
   "metadata": {},
   "outputs": [
    {
     "data": {
      "text/html": [
       "<div>\n",
       "<style scoped>\n",
       "    .dataframe tbody tr th:only-of-type {\n",
       "        vertical-align: middle;\n",
       "    }\n",
       "\n",
       "    .dataframe tbody tr th {\n",
       "        vertical-align: top;\n",
       "    }\n",
       "\n",
       "    .dataframe thead th {\n",
       "        text-align: right;\n",
       "    }\n",
       "</style>\n",
       "<table border=\"1\" class=\"dataframe\">\n",
       "  <thead>\n",
       "    <tr style=\"text-align: right;\">\n",
       "      <th></th>\n",
       "      <th>PSA</th>\n",
       "      <th>DRE</th>\n",
       "      <th>Biópsia</th>\n",
       "    </tr>\n",
       "  </thead>\n",
       "  <tbody>\n",
       "    <tr>\n",
       "      <th>0</th>\n",
       "      <td>0</td>\n",
       "      <td>0</td>\n",
       "      <td>0</td>\n",
       "    </tr>\n",
       "    <tr>\n",
       "      <th>1</th>\n",
       "      <td>0</td>\n",
       "      <td>0</td>\n",
       "      <td>0</td>\n",
       "    </tr>\n",
       "    <tr>\n",
       "      <th>2</th>\n",
       "      <td>0</td>\n",
       "      <td>0</td>\n",
       "      <td>0</td>\n",
       "    </tr>\n",
       "    <tr>\n",
       "      <th>3</th>\n",
       "      <td>0</td>\n",
       "      <td>0</td>\n",
       "      <td>0</td>\n",
       "    </tr>\n",
       "    <tr>\n",
       "      <th>4</th>\n",
       "      <td>0</td>\n",
       "      <td>0</td>\n",
       "      <td>0</td>\n",
       "    </tr>\n",
       "    <tr>\n",
       "      <th>...</th>\n",
       "      <td>...</td>\n",
       "      <td>...</td>\n",
       "      <td>...</td>\n",
       "    </tr>\n",
       "    <tr>\n",
       "      <th>19471</th>\n",
       "      <td>0</td>\n",
       "      <td>0</td>\n",
       "      <td>0</td>\n",
       "    </tr>\n",
       "    <tr>\n",
       "      <th>19472</th>\n",
       "      <td>0</td>\n",
       "      <td>0</td>\n",
       "      <td>0</td>\n",
       "    </tr>\n",
       "    <tr>\n",
       "      <th>19473</th>\n",
       "      <td>0</td>\n",
       "      <td>1</td>\n",
       "      <td>0</td>\n",
       "    </tr>\n",
       "    <tr>\n",
       "      <th>19474</th>\n",
       "      <td>0</td>\n",
       "      <td>1</td>\n",
       "      <td>0</td>\n",
       "    </tr>\n",
       "    <tr>\n",
       "      <th>19475</th>\n",
       "      <td>0</td>\n",
       "      <td>0</td>\n",
       "      <td>0</td>\n",
       "    </tr>\n",
       "  </tbody>\n",
       "</table>\n",
       "<p>19476 rows × 3 columns</p>\n",
       "</div>"
      ],
      "text/plain": [
       "       PSA  DRE  Biópsia\n",
       "0        0    0        0\n",
       "1        0    0        0\n",
       "2        0    0        0\n",
       "3        0    0        0\n",
       "4        0    0        0\n",
       "...    ...  ...      ...\n",
       "19471    0    0        0\n",
       "19472    0    0        0\n",
       "19473    0    1        0\n",
       "19474    0    1        0\n",
       "19475    0    0        0\n",
       "\n",
       "[19476 rows x 3 columns]"
      ]
     },
     "execution_count": 205,
     "metadata": {},
     "output_type": "execute_result"
    }
   ],
   "source": [
    "df_data"
   ]
  },
  {
   "cell_type": "code",
   "execution_count": 206,
   "metadata": {},
   "outputs": [],
   "source": [
    "casos_positivos_psa_e_dre = df_data[\n",
    "  (df_data['DRE'] == 1) & (df_data['PSA'] == 1) & (df_data['Biópsia'] == 1)].shape[0]\n",
    "casos_positivos_psa_ou_dre = df_data[\n",
    "  ((df_data['DRE'] == 1) | (df_data['PSA'] == 1)) & (df_data['Biópsia'] == 1)].shape[0]\n",
    "casos_negativos_psa_e_dre = df_data[\n",
    "  (df_data['DRE'] == 0) & (df_data['PSA'] == 0) & (df_data['Biópsia'] == 0)].shape[0]\n",
    "casos_negativos_psa_ou_dre = df_data[\n",
    "  ((df_data['DRE'] == 0) | (df_data['PSA'] == 0)) & (df_data['Biópsia'] == 0)].shape[0]"
   ]
  },
  {
   "cell_type": "code",
   "execution_count": 207,
   "metadata": {},
   "outputs": [
    {
     "name": "stdout",
     "output_type": "stream",
     "text": [
      "Casos positivos PSA: 481 \n",
      "Casos positivos DRE: 334 \n",
      "Casos positivos PSA e DRE: 189 \n",
      "Casos positivos PSA ou DRE: 626 \n",
      "Casos negativos PSA e DRE: 15697 \n",
      "Casos negativos PSA ou DRE: 17454 \n",
      "Total de casos positivos: 1881 \n",
      "Total de casos negativos: 17595 \n",
      "\n"
     ]
    }
   ],
   "source": [
    "print(f'Casos positivos PSA: {casos_positivos_psa_e_biopsia} \\n' + \\\n",
    "      f'Casos positivos DRE: {casos_positivos_dre_e_biopsia} \\n' + \\\n",
    "      f'Casos positivos PSA e DRE: {casos_positivos_psa_e_dre} \\n' + \\\n",
    "      f'Casos positivos PSA ou DRE: {casos_positivos_psa_ou_dre} \\n' + \\\n",
    "      f'Casos negativos PSA e DRE: {casos_negativos_psa_e_dre} \\n' + \\\n",
    "      f'Casos negativos PSA ou DRE: {casos_negativos_psa_ou_dre} \\n' + \\\n",
    "      f'Total de casos positivos: {total_biopsia_positiva} \\n' + \\\n",
    "      f'Total de casos negativos: {total_biopsia_negativa} \\n'\n",
    "      )"
   ]
  },
  {
   "cell_type": "code",
   "execution_count": 208,
   "metadata": {},
   "outputs": [],
   "source": [
    "sensibilidade_psa_e_dre = casos_positivos_psa_e_dre / total_biopsia_positiva\n",
    "sensibilidade_psa_ou_dre = casos_positivos_psa_ou_dre / total_biopsia_positiva\n",
    "especificidade_psa_e_dre = casos_negativos_psa_e_dre / total_biopsia_negativa\n",
    "especificidade_psa_ou_dre = casos_negativos_psa_ou_dre / total_biopsia_negativa\n"
   ]
  },
  {
   "cell_type": "code",
   "execution_count": 209,
   "metadata": {},
   "outputs": [],
   "source": [
    "prob_estar_doente_dre = \\\n",
    "  (sensibilidade_psa_e_dre * 0.042) / (sensibilidade_psa_e_dre * 0.042 + (1-especificidade_psa_e_dre) * (1-0.042))\n"
   ]
  },
  {
   "cell_type": "markdown",
   "metadata": {},
   "source": [
    "P(T = +) = P(PSA = +) + P(DRE = +) / P(D = +)"
   ]
  },
  {
   "cell_type": "markdown",
   "metadata": {},
   "source": [
    "P(D = + | T = +)"
   ]
  },
  {
   "cell_type": "code",
   "execution_count": 210,
   "metadata": {},
   "outputs": [],
   "source": [
    "prob_estar_doente_psa = \\\n",
    "  (sensibilidade_psa_ou_dre * 0.042) / (sensibilidade_psa_ou_dre * 0.042 + (1-especificidade_psa_ou_dre) * (1-0.042))"
   ]
  },
  {
   "cell_type": "code",
   "execution_count": 211,
   "metadata": {},
   "outputs": [
    {
     "data": {
      "text/plain": [
       "0.6454786446712313"
      ]
     },
     "execution_count": 211,
     "metadata": {},
     "output_type": "execute_result"
    }
   ],
   "source": [
    "prob_estar_doente_psa"
   ]
  },
  {
   "cell_type": "code",
   "execution_count": 212,
   "metadata": {},
   "outputs": [
    {
     "data": {
      "text/plain": [
       "2524"
      ]
     },
     "execution_count": 212,
     "metadata": {},
     "output_type": "execute_result"
    }
   ],
   "source": [
    "positivo_psa_ou_pre"
   ]
  },
  {
   "cell_type": "code",
   "execution_count": 213,
   "metadata": {},
   "outputs": [
    {
     "data": {
      "text/plain": [
       "0.7320574162679426"
      ]
     },
     "execution_count": 213,
     "metadata": {},
     "output_type": "execute_result"
    }
   ],
   "source": [
    "sensibilidade"
   ]
  },
  {
   "cell_type": "code",
   "execution_count": null,
   "metadata": {},
   "outputs": [],
   "source": []
  }
 ],
 "metadata": {
  "kernelspec": {
   "display_name": "Python 3.9.12 ('base')",
   "language": "python",
   "name": "python3"
  },
  "language_info": {
   "codemirror_mode": {
    "name": "ipython",
    "version": 3
   },
   "file_extension": ".py",
   "mimetype": "text/x-python",
   "name": "python",
   "nbconvert_exporter": "python",
   "pygments_lexer": "ipython3",
   "version": "3.9.12"
  },
  "orig_nbformat": 4,
  "vscode": {
   "interpreter": {
    "hash": "e1119553ca37bd537820b8a95f14a71355b4b8014ecf9920531a7db651cce29d"
   }
  }
 },
 "nbformat": 4,
 "nbformat_minor": 2
}
